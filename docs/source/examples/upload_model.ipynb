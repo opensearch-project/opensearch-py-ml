{
 "cells": [
  {
   "cell_type": "markdown",
   "metadata": {},
   "source": [
    "# Demo Notebook for Upload Models"
   ]
  },
  {
   "cell_type": "markdown",
   "metadata": {
    "pycharm": {
     "name": "#%% md\n"
    }
   },
   "source": [
    "## Step 0: Imports"
   ]
  },
  {
   "cell_type": "code",
   "execution_count": 3,
   "metadata": {},
   "outputs": [],
   "source": [
    "%load_ext autoreload\n",
    "%autoreload 2"
   ]
  },
  {
   "cell_type": "code",
   "execution_count": 4,
   "metadata": {},
   "outputs": [],
   "source": [
    "# import this to stop opensearch-py-ml from yelling every time a DataFrame connection made\n",
    "import warnings\n",
    "warnings.filterwarnings('ignore')"
   ]
  },
  {
   "cell_type": "code",
   "execution_count": 5,
   "metadata": {
    "execution": {
     "iopub.execute_input": "2021-12-15T20:24:28.813370Z",
     "iopub.status.busy": "2021-12-15T20:24:28.802670Z",
     "iopub.status.idle": "2021-12-15T20:24:30.192643Z",
     "shell.execute_reply": "2021-12-15T20:24:30.192931Z"
    }
   },
   "outputs": [],
   "source": [
    "# imports to demonstrate DataFrame support\n",
    "import pandas as pd\n",
    "import numpy as np\n",
    "import matplotlib.pyplot as plt\n",
    "import opensearch_py_ml as oml\n",
    "from opensearchpy import OpenSearch\n",
    "\n",
    "# Import standard test settings for consistent results\n",
    "from opensearch_py_ml.conftest import *\n",
    "\n",
    "# imports to demonstrate ml-commons integration\n",
    "from opensearch_py_ml.ml_commons_integration import MLCommonClient"
   ]
  },
  {
   "cell_type": "markdown",
   "metadata": {},
   "source": [
    "## Step 1: Setup clients"
   ]
  },
  {
   "cell_type": "code",
   "execution_count": 6,
   "metadata": {},
   "outputs": [],
   "source": [
    "CLUSTER_URL = 'https://localhost:9200'\n",
    "\n",
    "def get_os_client(cluster_url = CLUSTER_URL,\n",
    "                  username='admin',\n",
    "                  password='admin'):\n",
    "    '''\n",
    "    Get OpenSearch client\n",
    "    :param cluster_url: cluster URL like https://ml-te-netwo-1s12ba42br23v-ff1736fa7db98ff2.elb.us-west-2.amazonaws.com:443\n",
    "    :return: OpenSearch client\n",
    "    '''\n",
    "    client = OpenSearch(\n",
    "        hosts=[cluster_url],\n",
    "        http_auth=(username, password),\n",
    "        verify_certs=False\n",
    "    )\n",
    "    return client"
   ]
  },
  {
   "cell_type": "code",
   "execution_count": 7,
   "metadata": {},
   "outputs": [],
   "source": [
    "client = get_os_client()\n",
    "ml_client = MLCommonClient(client)"
   ]
  },
  {
   "cell_type": "markdown",
   "metadata": {
    "execution": {
     "iopub.execute_input": "2021-12-15T20:24:30.195931Z",
     "iopub.status.busy": "2021-12-15T20:24:30.195563Z",
     "iopub.status.idle": "2021-12-15T20:24:30.668077Z",
     "shell.execute_reply": "2021-12-15T20:24:30.667531Z"
    },
    "pycharm": {
     "is_executing": false
    }
   },
   "source": [
    "## Step 2: Upload Models"
   ]
  },
  {
   "cell_type": "markdown",
   "metadata": {},
   "source": [
    "MLCommonClient provides function upload_model which we can use to upload Machine learning model. "
   ]
  },
  {
   "cell_type": "code",
   "execution_count": 8,
   "metadata": {},
   "outputs": [
    {
     "name": "stdout",
     "output_type": "stream",
     "text": [
      "Total number of chunks 9\n",
      "Sha1 value of the model file:  9376c2ebd7c83f99ec2526323786c348d2382e6d86576f750c89ea544d6bbb14\n",
      "Model meta data was created successfully. Model Id:  Bl4yVIQBErPyCMuTDHv9\n",
      "uploading chunk 1 of 9\n",
      "{'status': 'Uploaded'}\n",
      "uploading chunk 2 of 9\n",
      "{'status': 'Uploaded'}\n",
      "uploading chunk 3 of 9\n",
      "{'status': 'Uploaded'}\n",
      "uploading chunk 4 of 9\n",
      "{'status': 'Uploaded'}\n",
      "uploading chunk 5 of 9\n",
      "{'status': 'Uploaded'}\n",
      "uploading chunk 6 of 9\n",
      "{'status': 'Uploaded'}\n",
      "uploading chunk 7 of 9\n",
      "{'status': 'Uploaded'}\n",
      "uploading chunk 8 of 9\n",
      "{'status': 'Uploaded'}\n",
      "uploading chunk 9 of 9\n",
      "{'status': 'Uploaded'}\n",
      "Model uploaded successfully\n"
     ]
    }
   ],
   "source": [
    "# 1st argument -> file path of the model file (zip file expected)\n",
    "# 2nd argument -> file path of the model config file (json file expected)\n",
    "# 3rd argument -> isVerbose, if true then prints more information during the function execution.\n",
    "\n",
    "\n",
    "ml_client.upload_model(\"/workplace/dhrubo/upload_content/all-MiniLM-L6-v2.zip\", \"/workplace/dhrubo/upload_content/model_config.json\", isVerbose=True)"
   ]
  }
 ],
 "metadata": {
  "kernelspec": {
   "display_name": "Python 3 (ipykernel)",
   "language": "python",
   "name": "python3"
  },
  "language_info": {
   "codemirror_mode": {
    "name": "ipython",
    "version": 3
   },
   "file_extension": ".py",
   "mimetype": "text/x-python",
   "name": "python",
   "nbconvert_exporter": "python",
   "pygments_lexer": "ipython3",
   "version": "3.7.10"
  }
 },
 "nbformat": 4,
 "nbformat_minor": 2
}