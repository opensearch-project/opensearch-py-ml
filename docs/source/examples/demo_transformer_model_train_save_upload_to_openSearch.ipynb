{
 "cells": [
  {
   "cell_type": "markdown",
   "id": "fba4c02d",
   "metadata": {},
   "source": [
    "# Demo Notebook for Sentence Transformer Model Training, Saving and Uploading to OpenSearch\n",
    "\n",
    "\n",
    "## Introduction\n",
    "\n",
    "Deep learning models are very powerful and have been shown to improve state-of-the-art for several tasks. However, they need a lot of labelled training data. Such data is often hard to obtain. In this notebook, we show how pre-trained large language models can be used to circumvent this issue. We introduce the technique of synthetic data generation and use it obtain a transformer model that is custom built for a given set of documents for the task of search. \n",
    "\n",
    "\n",
    "### Passage retrieval\n",
    "\n",
    "We focus on the task of passage retrieval i.e the corpus consists of passages, and it is searched at run-time given a user query. A passage could be any piece of unstructured text such as sentences, documents or webpages. \n",
    "\n",
    "Deep neural networks such as transformers have been shown to give state-of-the-art results for the task of passage/document retireval given large enough labelled dataset. For passage retrieval a labelled dataset would consist of (query, relevant passage) pairs. \n",
    "\n",
    "Labelled datasets such as MS Marco and Natural questions consist of more than 500K (query, passage) pairs and can be used to train transfomers. However transformers trained on these datasets have limited performance on out-of-domain datasets https://arxiv.org/abs/2104.08663. This is a well know fact -- medium sized transformers have toruble generalizing on out-of-distribution data. Thus to use transformers for search we need domain specific labelled data. Unfortunately such data is not generally avaialable and is hard to acquire. \n",
    "\n",
    "### Synthetic query generation\n",
    "\n",
    "In the absence of such labelled data we provide a synthetic query generator (SQG) model that can be used to create synthetic queries given a passage. The SQG model is a large transformer model that has been trained to generate human like queries given a passage. It can be used to create a labelled dataset of (synthetic queries, passage). A transformer model can be trained on this synthetic data and used for semantic search. In fact, we have shown that such synthetically trained models beat the current state-of-the-art.\n",
    "\n",
    "### Train BERT Model with synthetic query data\n",
    "\n",
    "After generating synthetic query we can train Sentence Transformer model to get more precise embedding. \n",
    "\n",
    "\n",
    "\n",
    "This notebook provides a walkthrough guidance for users use their synthetic queries to fine tune and train a sentence transformer model. In this notebook, you use opensearch_py_ml to accomplish the following:\n",
    "\n",
    "Step 1: Import packages and set up client\n",
    "\n",
    "Step 2: Import the data/passages for synthetic query generation\n",
    "\n",
    "Step 3: Generate Synthetic Queries\n",
    "\n",
    "Step 4: Read synthetic queries and train/fine-tune model using a hugging face sentence transformer model\n",
    "\n",
    "Step 5: (Optional) Save model\n",
    "\n",
    "Step 6: Upload the model to OpenSearch cluster"
   ]
  },
  {
   "cell_type": "markdown",
   "id": "7011727e",
   "metadata": {},
   "source": [
    "## Step 1: Import packages, set up client and define helper functions\n",
    "\n",
    "Install required packages for opensearch_py_ml.sentence_transformer_model\n",
    "Install `opensearchpy` and `opensearch-py-ml` through pypi\n",
    "\n",
    "generate.py script is released with the Synthetic Query Generation model.\n",
    "\n",
    "Please refer https://pytorch.org/ to proper install torch based on your environment setting.  "
   ]
  },
  {
   "cell_type": "code",
   "execution_count": 1,
   "id": "17a3e085",
   "metadata": {
    "scrolled": true
   },
   "outputs": [],
   "source": [
    "# pip install pandas matplotlib numpy torch accelerate sentence_transformers tqdm transformers opensearch-py opensearch-py-ml detoxify datasets "
   ]
  },
  {
   "cell_type": "code",
   "execution_count": 2,
   "id": "87c021df",
   "metadata": {
    "pycharm": {
     "is_executing": true
    }
   },
   "outputs": [],
   "source": [
    "import warnings\n",
    "warnings.filterwarnings('ignore')\n",
    "import opensearch_py_ml as oml\n",
    "from opensearchpy import OpenSearch\n",
    "import generate # generate.py script is release with the \n",
    "from generate import Synthetic_Query_Generation\n",
    "from opensearch_py_ml.ml_models import SentenceTransformerModel\n",
    "import boto3, json\n",
    "import pandas as pd, numpy as np\n",
    "from datasets import load_dataset\n",
    "import gc, torch\n",
    "gc.collect()\n",
    "torch.cuda.empty_cache()"
   ]
  },
  {
   "cell_type": "code",
   "execution_count": 3,
   "id": "798cac25",
   "metadata": {},
   "outputs": [],
   "source": [
    "# import mlcommon to later upload the model to OpenSearch Cluster\n",
    "from opensearch_py_ml.ml_commons import MLCommonClient"
   ]
  },
  {
   "cell_type": "code",
   "execution_count": 4,
   "id": "5c85ae17",
   "metadata": {},
   "outputs": [],
   "source": [
    "CLUSTER_URL = 'https://localhost:9200'"
   ]
  },
  {
   "cell_type": "code",
   "execution_count": 5,
   "id": "77442abf",
   "metadata": {},
   "outputs": [],
   "source": [
    "def get_os_client(cluster_url = CLUSTER_URL,\n",
    "                  username='admin',\n",
    "                  password='admin'):\n",
    "    '''\n",
    "    Get OpenSearch client\n",
    "    :param cluster_url: cluster URL like https://ml-te-netwo-1s12ba42br23v-ff1736fa7db98ff2.elb.us-west-2.amazonaws.com:443\n",
    "    :return: OpenSearch client\n",
    "    '''\n",
    "    client = OpenSearch(\n",
    "        hosts=[cluster_url],\n",
    "        http_auth=(username, password),\n",
    "        verify_certs=False\n",
    "    )\n",
    "    return client "
   ]
  },
  {
   "cell_type": "code",
   "execution_count": 6,
   "id": "89e1cb2a",
   "metadata": {},
   "outputs": [],
   "source": [
    "client = get_os_client()"
   ]
  },
  {
   "cell_type": "code",
   "execution_count": 7,
   "id": "946a3f3f",
   "metadata": {},
   "outputs": [],
   "source": [
    "def myselect(x):    \n",
    "    if max(x[\"passages\"][\"is_selected\"]) == 1:\n",
    "        return x[\"passages\"][\"passage_text\"][np.argmax(x[\"passages\"][\"is_selected\"])]\n",
    "    return \"-1\""
   ]
  },
  {
   "cell_type": "markdown",
   "id": "0d059192",
   "metadata": {},
   "source": [
    "## Step 2: Import the data/passages for synthetic query generation"
   ]
  },
  {
   "cell_type": "markdown",
   "id": "62482261",
   "metadata": {},
   "source": [
    "There are three supported options to read datasets :\n",
    "* Option 1: read from a local data folder in jsonl file \n",
    "* Option 2: read from a list of passages\n",
    "* Option 3: read from OpenSearch client by index_name"
   ]
  },
  {
   "cell_type": "markdown",
   "id": "fce20823",
   "metadata": {},
   "source": [
    "For the purpose of this notebook we will demonstrate option 2: read from a list of passages. \n",
    "\n",
    "We take the MS Marco dataset of passages as our example dataset. "
   ]
  },
  {
   "cell_type": "markdown",
   "id": "643103a3",
   "metadata": {},
   "source": [
    "### 2.1) Load the data and convert into a pandas dataframe"
   ]
  },
  {
   "cell_type": "code",
   "execution_count": 12,
   "id": "a0faa5d5",
   "metadata": {},
   "outputs": [
    {
     "name": "stderr",
     "output_type": "stream",
     "text": [
      "Reusing dataset ms_marco (/Users/dhrubo/.cache/huggingface/datasets/ms_marco/v1.1/1.1.0/b6a62715fa5219aea5275dd3556601004cd63945cb63e36e022f77bb3cbbca84)\n"
     ]
    },
    {
     "data": {
      "application/vnd.jupyter.widget-view+json": {
       "model_id": "f214b68bd52d45efab430b7a6c132240",
       "version_major": 2,
       "version_minor": 0
      },
      "text/plain": [
       "  0%|          | 0/3 [00:00<?, ?it/s]"
      ]
     },
     "metadata": {},
     "output_type": "display_data"
    }
   ],
   "source": [
    "dataset = load_dataset(\"ms_marco\",\"v1.1\")\n",
    "df = pd.DataFrame.from_dict(dataset[\"validation\"])"
   ]
  },
  {
   "cell_type": "code",
   "execution_count": 13,
   "id": "f4ed45f4",
   "metadata": {},
   "outputs": [],
   "source": [
    "df[\"passage\"] = df.apply(lambda x: myselect(x), axis = 1)\n",
    "df = df[[\"query\",\"passage\"]][df.passage != \"-1\"]"
   ]
  },
  {
   "cell_type": "markdown",
   "id": "1cd3cba4",
   "metadata": {},
   "source": [
    "The above cells create a dataframe that consists of queries and passages"
   ]
  },
  {
   "cell_type": "code",
   "execution_count": 14,
   "id": "a64162e7",
   "metadata": {},
   "outputs": [],
   "source": [
    "# Setting print options to display full columns\n",
    "\n",
    "pd.set_option('display.max_columns', None)\n",
    "pd.set_option('display.expand_frame_repr', None)\n",
    "pd.set_option('max_colwidth', None)"
   ]
  },
  {
   "cell_type": "markdown",
   "id": "b1037278",
   "metadata": {},
   "source": [
    "The dataset looks like,"
   ]
  },
  {
   "cell_type": "code",
   "execution_count": 15,
   "id": "a15222c4",
   "metadata": {},
   "outputs": [
    {
     "data": {
      "text/html": [
       "<div>\n",
       "<style scoped>\n",
       "    .dataframe tbody tr th:only-of-type {\n",
       "        vertical-align: middle;\n",
       "    }\n",
       "\n",
       "    .dataframe tbody tr th {\n",
       "        vertical-align: top;\n",
       "    }\n",
       "\n",
       "    .dataframe thead th {\n",
       "        text-align: right;\n",
       "    }\n",
       "</style>\n",
       "<table border=\"1\" class=\"dataframe\">\n",
       "  <thead>\n",
       "    <tr style=\"text-align: right;\">\n",
       "      <th></th>\n",
       "      <th>query</th>\n",
       "      <th>passage</th>\n",
       "    </tr>\n",
       "  </thead>\n",
       "  <tbody>\n",
       "    <tr>\n",
       "      <th>0</th>\n",
       "      <td>walgreens store sales average</td>\n",
       "      <td>The average Walgreens salary ranges from approximately $15,000 per year for Customer Service Associate / Cashier to $179,900 per year for District Manager. Average Walgreens hourly pay ranges from approximately $7.35 per hour for Laboratory Technician to $68.90 per hour for Pharmacy Manager. Salary information comes from 7,810 data points collected directly from employees, users, and jobs on Indeed.</td>\n",
       "    </tr>\n",
       "    <tr>\n",
       "      <th>1</th>\n",
       "      <td>how much do bartenders make</td>\n",
       "      <td>According to the Bureau of Labor Statistics, the average hourly wage for a bartender is $10.36, and the average yearly take-home is $21,550. Bartending can be a lot of things. For some it is exciting, for others exhausting. At times there is a lot of fun to be had, at others it is rather dull. But for the most part, bartending is almost always rewarding in the financial sense, as long as you stick with it.</td>\n",
       "    </tr>\n",
       "    <tr>\n",
       "      <th>2</th>\n",
       "      <td>what is a furuncle boil</td>\n",
       "      <td>A boil, also called a furuncle, is a deep folliculitis, infection of the hair follicle. It is most commonly caused by infection by the bacterium Staphylococcus aureus, resulting in a painful swollen area on the skin caused by an accumulation of pus and dead tissue. Signs and symptoms [edit]. Boils are bumpy, red, pus-filled lumps around a hair follicle that are tender, warm, and very painful. They range from pea-sized to golf ball-sized. A yellow or white point at the center of the lump can be seen when the boil is ready to drain or discharge pus.</td>\n",
       "    </tr>\n",
       "    <tr>\n",
       "      <th>3</th>\n",
       "      <td>what can urinalysis detect</td>\n",
       "      <td>Urinalysis is a test that evaluates a sample of your urine. Urinalysis is used to detect and assess a wide range of disorders, such as urinary tract infection, kidney disease and diabetes. Urinalysis involves examining the appearance, concentration and content of urine. Abnormal urinalysis results may point to a disease or illness. For example, a urinary tract infection can make urine look cloudy instead of clear. Increased levels of protein in urine can be a sign of kidney disease.</td>\n",
       "    </tr>\n",
       "    <tr>\n",
       "      <th>4</th>\n",
       "      <td>what is vitamin a used for</td>\n",
       "      <td>Vitamin A is also used for shigellosis, diseases of the nervous system, nose infections, loss of sense of smell, asthma, persistent headaches, kidney stones, overactive thyroid, iron-poor blood (anemia), deafness, ringing in the ears, and precancerous mouth sores (leukoplakia). It can also be made in a laboratory. Vitamin A is used for treating vitamin A deficiency. It is also used to reduce complications of diseases such as malaria, HIV, measles, and diarrhea in children with</td>\n",
       "    </tr>\n",
       "    <tr>\n",
       "      <th>5</th>\n",
       "      <td>what causes genetic alterations in normal cells</td>\n",
       "      <td>The initiation of cell transformation is generally associated with genetic alterations in normal cells that lead to the loss of intercellular-and/or extracellular-matrix- (ECM-) mediated cell adhesion. Cancer afflicts an organ or a tissue by inducing abnormal and uncontrolled division of cells that either constitute it or migrate to it. At the cellular level, this is caused by genetic alterations in networks that regulate cell division and cell death.</td>\n",
       "    </tr>\n",
       "    <tr>\n",
       "      <th>6</th>\n",
       "      <td>cost to frame basement</td>\n",
       "      <td>Our free calculator uses recent, trusted data to estimate costs for your Basement Wall Framing project. For a basic 125 square feet project in zip code 47474, the benchmark cost to Frame Basement Walls ranges between $2.51 - $3.17 per square foot* . To estimate costs for your project:</td>\n",
       "    </tr>\n",
       "    <tr>\n",
       "      <th>7</th>\n",
       "      <td>erudite divergent definition</td>\n",
       "      <td>The smart ones, the ones value knowledge and logic are Erudite. They know everything. . Erudite is one of the five factions in the world of Divergent, the one and only faction dedicated to knowledge, intelligence, curiosity, and astuteness. It was formed by those who blamed ignorance for the war that had occurred in the past, causing them to split into factions in the first place. They also use Dauntless as their soldiers near the end of Divergent. They have a close relationship with Amity, but Amity are not involved in the war because they are the peace faction. No relationship is stated between Erudite and Candor.</td>\n",
       "    </tr>\n",
       "    <tr>\n",
       "      <th>8</th>\n",
       "      <td>why is albumin normally absent in urine</td>\n",
       "      <td>Share. Albumin is a protein present in the blood. Proteins are normally absent in urine because the kidney cells generally prevent large molecules including proteins, from being excreted. Some proteins may appear in the urine in normal individuals also if blood levels are very high. In kidney diseases, albumin will appear in the urine even with normal blood levels.</td>\n",
       "    </tr>\n",
       "    <tr>\n",
       "      <th>9</th>\n",
       "      <td>where was movie the birds filmed</td>\n",
       "      <td>The Birds filming location: the Schoolhouse: Bodega Lane, Bodega, Northern California. Alfred Hitchcock ’s film of the Daphne du Maurier short story (originally set in Cornwall, England) uses lots of process (special effects) shots but, as usual, the director plays fair with the geography. The Birds filming location: the restaurant: Tides Wharf and Restaurant, Bodega Bay, Northern California. The Tides Wharf &amp; Restaurant, in which the assorted locals shelter from the bird attacks, has expanded into an unrecognisable hotel complex since the film was made. The big surprise is that there is no town.</td>\n",
       "    </tr>\n",
       "  </tbody>\n",
       "</table>\n",
       "</div>"
      ],
      "text/plain": [
       "                                             query                                                                                                                                                                                                                                                                                                                                                                                                                                                                                                                                                                                                                                          passage\n",
       "0                    walgreens store sales average                                                                                                                                                                                                                               The average Walgreens salary ranges from approximately $15,000 per year for Customer Service Associate / Cashier to $179,900 per year for District Manager. Average Walgreens hourly pay ranges from approximately $7.35 per hour for Laboratory Technician to $68.90 per hour for Pharmacy Manager. Salary information comes from 7,810 data points collected directly from employees, users, and jobs on Indeed.\n",
       "1                      how much do bartenders make                                                                                                                                                                                                                        According to the Bureau of Labor Statistics, the average hourly wage for a bartender is $10.36, and the average yearly take-home is $21,550. Bartending can be a lot of things. For some it is exciting, for others exhausting. At times there is a lot of fun to be had, at others it is rather dull. But for the most part, bartending is almost always rewarding in the financial sense, as long as you stick with it.\n",
       "2                          what is a furuncle boil                                                                        A boil, also called a furuncle, is a deep folliculitis, infection of the hair follicle. It is most commonly caused by infection by the bacterium Staphylococcus aureus, resulting in a painful swollen area on the skin caused by an accumulation of pus and dead tissue. Signs and symptoms [edit]. Boils are bumpy, red, pus-filled lumps around a hair follicle that are tender, warm, and very painful. They range from pea-sized to golf ball-sized. A yellow or white point at the center of the lump can be seen when the boil is ready to drain or discharge pus.\n",
       "3                       what can urinalysis detect                                                                                                                                          Urinalysis is a test that evaluates a sample of your urine. Urinalysis is used to detect and assess a wide range of disorders, such as urinary tract infection, kidney disease and diabetes. Urinalysis involves examining the appearance, concentration and content of urine. Abnormal urinalysis results may point to a disease or illness. For example, a urinary tract infection can make urine look cloudy instead of clear. Increased levels of protein in urine can be a sign of kidney disease.\n",
       "4                       what is vitamin a used for                                                                                                                                                Vitamin A is also used for shigellosis, diseases of the nervous system, nose infections, loss of sense of smell, asthma, persistent headaches, kidney stones, overactive thyroid, iron-poor blood (anemia), deafness, ringing in the ears, and precancerous mouth sores (leukoplakia). It can also be made in a laboratory. Vitamin A is used for treating vitamin A deficiency. It is also used to reduce complications of diseases such as malaria, HIV, measles, and diarrhea in children with\n",
       "5  what causes genetic alterations in normal cells                                                                                                                                                                          The initiation of cell transformation is generally associated with genetic alterations in normal cells that lead to the loss of intercellular-and/or extracellular-matrix- (ECM-) mediated cell adhesion. Cancer afflicts an organ or a tissue by inducing abnormal and uncontrolled division of cells that either constitute it or migrate to it. At the cellular level, this is caused by genetic alterations in networks that regulate cell division and cell death.\n",
       "6                           cost to frame basement                                                                                                                                                                                                                                                                                                                                                    Our free calculator uses recent, trusted data to estimate costs for your Basement Wall Framing project. For a basic 125 square feet project in zip code 47474, the benchmark cost to Frame Basement Walls ranges between $2.51 - $3.17 per square foot* . To estimate costs for your project:\n",
       "7                     erudite divergent definition  The smart ones, the ones value knowledge and logic are Erudite. They know everything. . Erudite is one of the five factions in the world of Divergent, the one and only faction dedicated to knowledge, intelligence, curiosity, and astuteness. It was formed by those who blamed ignorance for the war that had occurred in the past, causing them to split into factions in the first place. They also use Dauntless as their soldiers near the end of Divergent. They have a close relationship with Amity, but Amity are not involved in the war because they are the peace faction. No relationship is stated between Erudite and Candor.\n",
       "8          why is albumin normally absent in urine                                                                                                                                                                                                                                                                  Share. Albumin is a protein present in the blood. Proteins are normally absent in urine because the kidney cells generally prevent large molecules including proteins, from being excreted. Some proteins may appear in the urine in normal individuals also if blood levels are very high. In kidney diseases, albumin will appear in the urine even with normal blood levels.\n",
       "9                 where was movie the birds filmed                      The Birds filming location: the Schoolhouse: Bodega Lane, Bodega, Northern California. Alfred Hitchcock ’s film of the Daphne du Maurier short story (originally set in Cornwall, England) uses lots of process (special effects) shots but, as usual, the director plays fair with the geography. The Birds filming location: the restaurant: Tides Wharf and Restaurant, Bodega Bay, Northern California. The Tides Wharf & Restaurant, in which the assorted locals shelter from the bird attacks, has expanded into an unrecognisable hotel complex since the film was made. The big surprise is that there is no town."
      ]
     },
     "execution_count": 15,
     "metadata": {},
     "output_type": "execute_result"
    }
   ],
   "source": [
    "df[0:10]"
   ]
  },
  {
   "cell_type": "markdown",
   "id": "6f1f4478",
   "metadata": {},
   "source": [
    "The MS Marco dataset has real queries for passages but we will pretend that it does not and generate synthetic queries for each passage"
   ]
  },
  {
   "cell_type": "markdown",
   "id": "855a4780",
   "metadata": {},
   "source": [
    "### 2.2) Convert the data into a list of strings and instantiate an object of the class Synthetic_Query_Generation"
   ]
  },
  {
   "cell_type": "code",
   "execution_count": 18,
   "id": "61f8a59e",
   "metadata": {},
   "outputs": [],
   "source": [
    "sample_passages = list(df.passage.values)"
   ]
  },
  {
   "cell_type": "code",
   "execution_count": 19,
   "id": "ce39fd98",
   "metadata": {},
   "outputs": [
    {
     "name": "stderr",
     "output_type": "stream",
     "text": [
      "Special tokens have been added in the vocabulary, make sure the associated word embeddings are fine-tuned or trained.\n"
     ]
    }
   ],
   "source": [
    "ss = Synthetic_Query_Generation(sentences = sample_passages[:8]) "
   ]
  },
  {
   "cell_type": "markdown",
   "id": "b9eff0a3",
   "metadata": {},
   "source": [
    "## Step 3: Generate synthetic queries"
   ]
  },
  {
   "cell_type": "code",
   "execution_count": 20,
   "id": "a7b424e7",
   "metadata": {},
   "outputs": [
    {
     "name": "stdout",
     "output_type": "stream",
     "text": [
      "Tokenizing corpus...\n",
      "Preparing input_ids and attention_mask... \n"
     ]
    },
    {
     "name": "stderr",
     "output_type": "stream",
     "text": [
      "100%|██████████| 8/8 [00:00<00:00, 424.24it/s]"
     ]
    },
    {
     "name": "stdout",
     "output_type": "stream",
     "text": [
      "0 number of documents out of 8 are longer than 512 tokens and were discarded\n"
     ]
    },
    {
     "name": "stderr",
     "output_type": "stream",
     "text": [
      "\n"
     ]
    },
    {
     "name": "stdout",
     "output_type": "stream",
     "text": [
      "The number of steps for creating queries:  8\n",
      "Running on CPU...\n"
     ]
    },
    {
     "name": "stderr",
     "output_type": "stream",
     "text": [
      "100%|██████████| 8/8 [03:25<00:00, 25.68s/it]\n"
     ]
    },
    {
     "name": "stdout",
     "output_type": "stream",
     "text": [
      "The total number of synthetic queries before detoxify is 80\n",
      "68good queries are kept after detoxify.\n",
      "File is saved to /Volumes/workplace/opensearch-py-ml/src/opensearch-py-ml/queries_after_detoxify/synthetic_queries_batch_.p file.\n",
      "Zip file is saved to/Volumes/workplace/opensearch-py-ml/src/opensearch-py-ml/clean_synthetic_queries.zip\n"
     ]
    }
   ],
   "source": [
    "three_step_query = ss.generate_synthetic_queries(num_machines = 1,\n",
    "                                                 overwrite = True,\n",
    "                                                 total_queries = 10,                                            \n",
    "                                                 numseq = 5,\n",
    "                                                 num_gpu = 0,\n",
    "                                                 toxic_cutoff = 0.01)"
   ]
  },
  {
   "cell_type": "markdown",
   "id": "9796396e",
   "metadata": {},
   "source": [
    "A lot of actions are being executed in the above cell. We elaborate them step by step, \n",
    "\n",
    "    1) Convert the data into a form that can be consumed by the Synthetic query generator (SQG) model. This amounts to tokenizing the data using a tokenizer. The SQG model is a fine-tuned version of the GPT-XL model https://huggingface.co/gpt2-xl and the tokenizer is the GPT tokenizer. \n",
    "    \n",
    "    2) The tokenizer has a max input length of 512 tokens. Every passage is tokenized with the special tokens <|startoftext|> and QRY: appended to the beginning and the end of every passage respectively.\n",
    "    \n",
    "    3) Load the SQG model i.e. 1.5B parameter GPT2-XL model that has been trained to ask questions given passages. This model has been made publicly available and can be found here https://ci.opensearch.org/ci/dbc/models/ml-models/amazon/gpt/GPT2_xl_sqg/1.0.0/GPT2_xl_sqg.zip. \n",
    "    \n",
    "    4) Once the model has been loaded and the data has been tokenized, the model starts the process of query generation. \"total_queries\" is number of synthetic queries generated for every passage and \"numseq\" is the number of queries that are generated by a model at a given time. Ideally total_queries = numseq, but this can lead to out of memory issues. So set numseq to an integer that is around 10 or less, and is a divisor of total_queries. \n",
    "    \n",
    "    It also needs the number of GPUs and the number of machines/nodes that it can use. Since we are using a single node instance with no GPUs we pass 0 and 1 to the function.   \n",
    "    \n",
    "    5) The function now begins to generate queries and displays a progress bar. We create total_queries per passage. Empirically we find that generating more queries leads to better peformance but there are diminishing returns since the total inference time increases with total_queries.\n",
    "    \n",
    "    6) After generating the queries, the function uses a publicly available package called Detoxify to remove innappropriate queries from the dataset. \"toxic_cutoff\" is a float. The script rejects all queries that have a toicity score greater than toxic_cutoff\n",
    "    \n",
    "    7) Finally, the synthetic queries along with their corresponding passages are saved in a zipped file in the current working directory."
   ]
  },
  {
   "cell_type": "markdown",
   "id": "76c49e24",
   "metadata": {},
   "source": [
    "### This is how the sample queries look like, "
   ]
  },
  {
   "cell_type": "code",
   "execution_count": 24,
   "id": "594020c4",
   "metadata": {},
   "outputs": [
    {
     "name": "stdout",
     "output_type": "stream",
     "text": [
      "Reading synthetic query file: /Volumes/workplace/upload_content/model_files/synthetic_queries/synthetic_queries_batch.p\n",
      "\n"
     ]
    },
    {
     "data": {
      "text/html": [
       "<div>\n",
       "<style scoped>\n",
       "    .dataframe tbody tr th:only-of-type {\n",
       "        vertical-align: middle;\n",
       "    }\n",
       "\n",
       "    .dataframe tbody tr th {\n",
       "        vertical-align: top;\n",
       "    }\n",
       "\n",
       "    .dataframe thead th {\n",
       "        text-align: right;\n",
       "    }\n",
       "</style>\n",
       "<table border=\"1\" class=\"dataframe\">\n",
       "  <thead>\n",
       "    <tr style=\"text-align: right;\">\n",
       "      <th></th>\n",
       "      <th>prob</th>\n",
       "      <th>query</th>\n",
       "      <th>passages</th>\n",
       "    </tr>\n",
       "  </thead>\n",
       "  <tbody>\n",
       "    <tr>\n",
       "      <th>11</th>\n",
       "      <td>0.000058</td>\n",
       "      <td>what is the salary range for a bb bar</td>\n",
       "      <td>According to the Bureau of Labor Statistics, the average hourly wage for a bartender is $10.36, and the average yearly take-home is $21,550. Bartending can be a lot of things. For some it is exciting, for others exhausting. At times there is a lot of fun to be had, at others it is rather dull. But for the most part, bartending is almost always rewarding in the financial sense, as long as you stick with it.</td>\n",
       "    </tr>\n",
       "    <tr>\n",
       "      <th>67</th>\n",
       "      <td>0.000027</td>\n",
       "      <td>are divergent known for their science</td>\n",
       "      <td>The smart ones, the ones value knowledge and logic are Erudite. They know everything.. Erudite is one of the five factions in the world of Divergent, the one and only faction dedicated to knowledge, intelligence, curiosity, and astuteness. It was formed by those who blamed ignorance for the war that had occurred in the past, causing them to split into factions in the first place. They also use Dauntless as their soldiers near the end of Divergent. They have a close relationship with Amity, but Amity are not involved in the war because they are the peace faction. No relationship is stated between Erudite and Candor.</td>\n",
       "    </tr>\n",
       "    <tr>\n",
       "      <th>33</th>\n",
       "      <td>0.000088</td>\n",
       "      <td>what diseases do urinalis tests show</td>\n",
       "      <td>Urinalysis is a test that evaluates a sample of your urine. Urinalysis is used to detect and assess a wide range of disorders, such as urinary tract infection, kidney disease and diabetes. Urinalysis involves examining the appearance, concentration and content of urine. Abnormal urinalysis results may point to a disease or illness. For example, a urinary tract infection can make urine look cloudy instead of clear. Increased levels of protein in urine can be a sign of kidney disease.</td>\n",
       "    </tr>\n",
       "    <tr>\n",
       "      <th>46</th>\n",
       "      <td>0.000001</td>\n",
       "      <td>what is a primary role for growth factors?</td>\n",
       "      <td>The initiation of cell transformation is generally associated with genetic alterations in normal cells that lead to the loss of intercellular-and/or extracellular-matrix- (ECM-) mediated cell adhesion. Cancer afflicts an organ or a tissue by inducing abnormal and uncontrolled division of cells that either constitute it or migrate to it. At the cellular level, this is caused by genetic alterations in networks that regulate cell division and cell death.</td>\n",
       "    </tr>\n",
       "    <tr>\n",
       "      <th>49</th>\n",
       "      <td>0.000610</td>\n",
       "      <td>definition of initiation of gene expression</td>\n",
       "      <td>The initiation of cell transformation is generally associated with genetic alterations in normal cells that lead to the loss of intercellular-and/or extracellular-matrix- (ECM-) mediated cell adhesion. Cancer afflicts an organ or a tissue by inducing abnormal and uncontrolled division of cells that either constitute it or migrate to it. At the cellular level, this is caused by genetic alterations in networks that regulate cell division and cell death.</td>\n",
       "    </tr>\n",
       "    <tr>\n",
       "      <th>0</th>\n",
       "      <td>5.286169</td>\n",
       "      <td>how much does walgreen assistant manager make</td>\n",
       "      <td>The average Walgreens salary ranges from approximately $15,000 per year for Customer Service Associate / Cashier to $179,900 per year for District Manager. Average Walgreens hourly pay ranges from approximately $7.35 per hour for Laboratory Technician to $68.90 per hour for Pharmacy Manager. Salary information comes from 7,810 data points collected directly from employees, users, and jobs on Indeed.</td>\n",
       "    </tr>\n",
       "    <tr>\n",
       "      <th>65</th>\n",
       "      <td>0.100414</td>\n",
       "      <td>what kind of people make up divergent</td>\n",
       "      <td>The smart ones, the ones value knowledge and logic are Erudite. They know everything.. Erudite is one of the five factions in the world of Divergent, the one and only faction dedicated to knowledge, intelligence, curiosity, and astuteness. It was formed by those who blamed ignorance for the war that had occurred in the past, causing them to split into factions in the first place. They also use Dauntless as their soldiers near the end of Divergent. They have a close relationship with Amity, but Amity are not involved in the war because they are the peace faction. No relationship is stated between Erudite and Candor.</td>\n",
       "    </tr>\n",
       "  </tbody>\n",
       "</table>\n",
       "</div>"
      ],
      "text/plain": [
       "        prob                                          query                                                                                                                                                                                                                                                                                                                                                                                                                                                                                                                                                                                                                                         passages\n",
       "11  0.000058          what is the salary range for a bb bar                                                                                                                                                                                                                        According to the Bureau of Labor Statistics, the average hourly wage for a bartender is $10.36, and the average yearly take-home is $21,550. Bartending can be a lot of things. For some it is exciting, for others exhausting. At times there is a lot of fun to be had, at others it is rather dull. But for the most part, bartending is almost always rewarding in the financial sense, as long as you stick with it.\n",
       "67  0.000027          are divergent known for their science   The smart ones, the ones value knowledge and logic are Erudite. They know everything.. Erudite is one of the five factions in the world of Divergent, the one and only faction dedicated to knowledge, intelligence, curiosity, and astuteness. It was formed by those who blamed ignorance for the war that had occurred in the past, causing them to split into factions in the first place. They also use Dauntless as their soldiers near the end of Divergent. They have a close relationship with Amity, but Amity are not involved in the war because they are the peace faction. No relationship is stated between Erudite and Candor.\n",
       "33  0.000088           what diseases do urinalis tests show                                                                                                                                          Urinalysis is a test that evaluates a sample of your urine. Urinalysis is used to detect and assess a wide range of disorders, such as urinary tract infection, kidney disease and diabetes. Urinalysis involves examining the appearance, concentration and content of urine. Abnormal urinalysis results may point to a disease or illness. For example, a urinary tract infection can make urine look cloudy instead of clear. Increased levels of protein in urine can be a sign of kidney disease.\n",
       "46  0.000001     what is a primary role for growth factors?                                                                                                                                                                          The initiation of cell transformation is generally associated with genetic alterations in normal cells that lead to the loss of intercellular-and/or extracellular-matrix- (ECM-) mediated cell adhesion. Cancer afflicts an organ or a tissue by inducing abnormal and uncontrolled division of cells that either constitute it or migrate to it. At the cellular level, this is caused by genetic alterations in networks that regulate cell division and cell death.\n",
       "49  0.000610    definition of initiation of gene expression                                                                                                                                                                          The initiation of cell transformation is generally associated with genetic alterations in normal cells that lead to the loss of intercellular-and/or extracellular-matrix- (ECM-) mediated cell adhesion. Cancer afflicts an organ or a tissue by inducing abnormal and uncontrolled division of cells that either constitute it or migrate to it. At the cellular level, this is caused by genetic alterations in networks that regulate cell division and cell death.\n",
       "0   5.286169  how much does walgreen assistant manager make                                                                                                                                                                                                                               The average Walgreens salary ranges from approximately $15,000 per year for Customer Service Associate / Cashier to $179,900 per year for District Manager. Average Walgreens hourly pay ranges from approximately $7.35 per hour for Laboratory Technician to $68.90 per hour for Pharmacy Manager. Salary information comes from 7,810 data points collected directly from employees, users, and jobs on Indeed.\n",
       "65  0.100414          what kind of people make up divergent   The smart ones, the ones value knowledge and logic are Erudite. They know everything.. Erudite is one of the five factions in the world of Divergent, the one and only faction dedicated to knowledge, intelligence, curiosity, and astuteness. It was formed by those who blamed ignorance for the war that had occurred in the past, causing them to split into factions in the first place. They also use Dauntless as their soldiers near the end of Divergent. They have a close relationship with Amity, but Amity are not involved in the war because they are the peace faction. No relationship is stated between Erudite and Candor."
      ]
     },
     "execution_count": 24,
     "metadata": {},
     "output_type": "execute_result"
    }
   ],
   "source": [
    "# initiate SentenceTransformerModel object\n",
    "\n",
    "custom_model = SentenceTransformerModel(folder_path=\"/Volumes/workplace/upload_content/model_files/\", overwrite = True)\n",
    "\n",
    "\n",
    "\n",
    "df = custom_model.read_queries(read_path = '/Volumes/workplace/upload_content/clean_synthetic_queries.zip', overwrite = True)\n",
    "\n",
    "df[::10]"
   ]
  },
  {
   "cell_type": "markdown",
   "id": "4da9e0de",
   "metadata": {},
   "source": [
    "## Step 4: Read synthetic queries and train/fine-tune a hugging face sentence transformer model on synthetic data\n",
    "\n",
    "With a synthetic queries zip file, users can fine tune a sentence transformer model. \n",
    "\n",
    "The `SentenceTransformerModel` class will inititate an object for training, exporting and configuring the model. Plese visit the [SentenceTransformerModel](https://opensearch-project.github.io/opensearch-py-ml/reference/api/sentence_transformer.html#opensearch_py_ml.sentence_transformer_model.SentenceTransformerModel) for API Reference . \n",
    "\n",
    "The `train` function will import synthestic queries, load sentence transformer example and train the model using a hugging face sentence transformer model. Plese visit the [SentenceTransformerModel.train](https://opensearch-project.github.io/opensearch-py-ml/reference/api/sentence_transformer.html#opensearch_py_ml.sentence_transformer_model.SentenceTransformerModel.train) for API Reference . "
   ]
  },
  {
   "cell_type": "code",
   "execution_count": 7,
   "id": "f1a337ac",
   "metadata": {},
   "outputs": [],
   "source": [
    "# clean up cache before training to free up spaces\n",
    "import gc, torch\n",
    "\n",
    "gc.collect()\n",
    "\n",
    "torch.cuda.empty_cache()"
   ]
  },
  {
   "cell_type": "code",
   "execution_count": 25,
   "id": "4b37e9ac",
   "metadata": {},
   "outputs": [
    {
     "name": "stdout",
     "output_type": "stream",
     "text": [
      "Reading synthetic query file: /Volumes/workplace/upload_content/model_files/synthetic_queries/synthetic_queries_batch.p\n",
      "\n",
      "Loading training examples... \n",
      "\n"
     ]
    },
    {
     "name": "stderr",
     "output_type": "stream",
     "text": [
      "100%|██████████| 66/66 [00:00<00:00, 244544.23it/s]\n"
     ]
    },
    {
     "name": "stdout",
     "output_type": "stream",
     "text": [
      "Start training without accelerator...\n",
      "\n",
      "The number of training epoch are 1\n",
      "\n",
      "The total number of steps per training epoch are 2\n",
      "\n",
      "Training epoch 0...\n",
      "\n"
     ]
    },
    {
     "name": "stderr",
     "output_type": "stream",
     "text": [
      "100%|██████████| 2/2 [00:10<00:00,  5.44s/it]\n"
     ]
    },
    {
     "name": "stdout",
     "output_type": "stream",
     "text": [
      "Total training time: 11.379661083221436\n",
      "\n",
      "Model saved to path: /Volumes/workplace/upload_content/model_files/\n",
      "\n",
      "tokenizer_json_path:  /Volumes/workplace/upload_content/model_files/tokenizer.json\n",
      "zip file is saved to /Volumes/workplace/upload_content/model_files/test2_model.zip\n",
      "\n"
     ]
    }
   ],
   "source": [
    "\n",
    "training = custom_model.train(read_path = '/Volumes/workplace/upload_content/clean_synthetic_queries.zip',\n",
    "                        output_model_name = 'test2_model.pt',\n",
    "                        zip_file_name= 'test2_model.zip',\n",
    "                        overwrite = True,\n",
    "                        num_epochs = 1,\n",
    "                        verbose = False)"
   ]
  },
  {
   "cell_type": "markdown",
   "id": "4a655a9c",
   "metadata": {},
   "source": [
    "## Step 5: (Optional) Save model\n",
    "If following step 1, the model zip will be auto generated, and the print message will indicate the zip file path as shown above. \n",
    "\n",
    "But if using other pretrained sentence transformer model from Hugging face, users can use `save_as_pt` function to save a pre-trained sentence transformer model for inferencing or benchmark with other models. \n",
    "\n",
    "The `save_as_pt`  function will prepare the model in proper format(Torch Script) along with tokenizers configuration file to upload to OpenSearch. Plese visit the [SentenceTransformerModel.save_as_pt](https://opensearch-project.github.io/opensearch-py-ml/reference/api/sentence_transformer.html#opensearch_py_ml.sentence_transformer_model.SentenceTransformerModel.save_as_pt) for API Reference . "
   ]
  },
  {
   "cell_type": "code",
   "execution_count": 9,
   "id": "503f8136",
   "metadata": {},
   "outputs": [
    {
     "name": "stdout",
     "output_type": "stream",
     "text": [
      "model file is saved to  /Volumes/workplace/upload_content/export_huggingface/msmarco-distilbert-base-tas-b.pt\n",
      "zip file is saved to  /Volumes/workplace/upload_content/export_huggingface/msmarco-distilbert-base-tas-b.zip \n",
      "\n"
     ]
    },
    {
     "data": {
      "text/plain": [
       "SentenceTransformer(\n",
       "  original_name=SentenceTransformer\n",
       "  (0): Transformer(\n",
       "    original_name=Transformer\n",
       "    (auto_model): DistilBertModel(\n",
       "      original_name=DistilBertModel\n",
       "      (embeddings): Embeddings(\n",
       "        original_name=Embeddings\n",
       "        (word_embeddings): Embedding(original_name=Embedding)\n",
       "        (position_embeddings): Embedding(original_name=Embedding)\n",
       "        (LayerNorm): LayerNorm(original_name=LayerNorm)\n",
       "        (dropout): Dropout(original_name=Dropout)\n",
       "      )\n",
       "      (transformer): Transformer(\n",
       "        original_name=Transformer\n",
       "        (layer): ModuleList(\n",
       "          original_name=ModuleList\n",
       "          (0): TransformerBlock(\n",
       "            original_name=TransformerBlock\n",
       "            (attention): MultiHeadSelfAttention(\n",
       "              original_name=MultiHeadSelfAttention\n",
       "              (dropout): Dropout(original_name=Dropout)\n",
       "              (q_lin): Linear(original_name=Linear)\n",
       "              (k_lin): Linear(original_name=Linear)\n",
       "              (v_lin): Linear(original_name=Linear)\n",
       "              (out_lin): Linear(original_name=Linear)\n",
       "            )\n",
       "            (sa_layer_norm): LayerNorm(original_name=LayerNorm)\n",
       "            (ffn): FFN(\n",
       "              original_name=FFN\n",
       "              (dropout): Dropout(original_name=Dropout)\n",
       "              (lin1): Linear(original_name=Linear)\n",
       "              (lin2): Linear(original_name=Linear)\n",
       "            )\n",
       "            (output_layer_norm): LayerNorm(original_name=LayerNorm)\n",
       "          )\n",
       "          (1): TransformerBlock(\n",
       "            original_name=TransformerBlock\n",
       "            (attention): MultiHeadSelfAttention(\n",
       "              original_name=MultiHeadSelfAttention\n",
       "              (dropout): Dropout(original_name=Dropout)\n",
       "              (q_lin): Linear(original_name=Linear)\n",
       "              (k_lin): Linear(original_name=Linear)\n",
       "              (v_lin): Linear(original_name=Linear)\n",
       "              (out_lin): Linear(original_name=Linear)\n",
       "            )\n",
       "            (sa_layer_norm): LayerNorm(original_name=LayerNorm)\n",
       "            (ffn): FFN(\n",
       "              original_name=FFN\n",
       "              (dropout): Dropout(original_name=Dropout)\n",
       "              (lin1): Linear(original_name=Linear)\n",
       "              (lin2): Linear(original_name=Linear)\n",
       "            )\n",
       "            (output_layer_norm): LayerNorm(original_name=LayerNorm)\n",
       "          )\n",
       "          (2): TransformerBlock(\n",
       "            original_name=TransformerBlock\n",
       "            (attention): MultiHeadSelfAttention(\n",
       "              original_name=MultiHeadSelfAttention\n",
       "              (dropout): Dropout(original_name=Dropout)\n",
       "              (q_lin): Linear(original_name=Linear)\n",
       "              (k_lin): Linear(original_name=Linear)\n",
       "              (v_lin): Linear(original_name=Linear)\n",
       "              (out_lin): Linear(original_name=Linear)\n",
       "            )\n",
       "            (sa_layer_norm): LayerNorm(original_name=LayerNorm)\n",
       "            (ffn): FFN(\n",
       "              original_name=FFN\n",
       "              (dropout): Dropout(original_name=Dropout)\n",
       "              (lin1): Linear(original_name=Linear)\n",
       "              (lin2): Linear(original_name=Linear)\n",
       "            )\n",
       "            (output_layer_norm): LayerNorm(original_name=LayerNorm)\n",
       "          )\n",
       "          (3): TransformerBlock(\n",
       "            original_name=TransformerBlock\n",
       "            (attention): MultiHeadSelfAttention(\n",
       "              original_name=MultiHeadSelfAttention\n",
       "              (dropout): Dropout(original_name=Dropout)\n",
       "              (q_lin): Linear(original_name=Linear)\n",
       "              (k_lin): Linear(original_name=Linear)\n",
       "              (v_lin): Linear(original_name=Linear)\n",
       "              (out_lin): Linear(original_name=Linear)\n",
       "            )\n",
       "            (sa_layer_norm): LayerNorm(original_name=LayerNorm)\n",
       "            (ffn): FFN(\n",
       "              original_name=FFN\n",
       "              (dropout): Dropout(original_name=Dropout)\n",
       "              (lin1): Linear(original_name=Linear)\n",
       "              (lin2): Linear(original_name=Linear)\n",
       "            )\n",
       "            (output_layer_norm): LayerNorm(original_name=LayerNorm)\n",
       "          )\n",
       "          (4): TransformerBlock(\n",
       "            original_name=TransformerBlock\n",
       "            (attention): MultiHeadSelfAttention(\n",
       "              original_name=MultiHeadSelfAttention\n",
       "              (dropout): Dropout(original_name=Dropout)\n",
       "              (q_lin): Linear(original_name=Linear)\n",
       "              (k_lin): Linear(original_name=Linear)\n",
       "              (v_lin): Linear(original_name=Linear)\n",
       "              (out_lin): Linear(original_name=Linear)\n",
       "            )\n",
       "            (sa_layer_norm): LayerNorm(original_name=LayerNorm)\n",
       "            (ffn): FFN(\n",
       "              original_name=FFN\n",
       "              (dropout): Dropout(original_name=Dropout)\n",
       "              (lin1): Linear(original_name=Linear)\n",
       "              (lin2): Linear(original_name=Linear)\n",
       "            )\n",
       "            (output_layer_norm): LayerNorm(original_name=LayerNorm)\n",
       "          )\n",
       "          (5): TransformerBlock(\n",
       "            original_name=TransformerBlock\n",
       "            (attention): MultiHeadSelfAttention(\n",
       "              original_name=MultiHeadSelfAttention\n",
       "              (dropout): Dropout(original_name=Dropout)\n",
       "              (q_lin): Linear(original_name=Linear)\n",
       "              (k_lin): Linear(original_name=Linear)\n",
       "              (v_lin): Linear(original_name=Linear)\n",
       "              (out_lin): Linear(original_name=Linear)\n",
       "            )\n",
       "            (sa_layer_norm): LayerNorm(original_name=LayerNorm)\n",
       "            (ffn): FFN(\n",
       "              original_name=FFN\n",
       "              (dropout): Dropout(original_name=Dropout)\n",
       "              (lin1): Linear(original_name=Linear)\n",
       "              (lin2): Linear(original_name=Linear)\n",
       "            )\n",
       "            (output_layer_norm): LayerNorm(original_name=LayerNorm)\n",
       "          )\n",
       "        )\n",
       "      )\n",
       "    )\n",
       "  )\n",
       "  (1): Pooling(original_name=Pooling)\n",
       ")"
      ]
     },
     "execution_count": 9,
     "metadata": {},
     "output_type": "execute_result"
    }
   ],
   "source": [
    "# default to download model id, \"sentence-transformers/msmarco-distilbert-base-tas-b\" from hugging face \n",
    "# and output a model in a zip file containing model.pt file and tokenizers.json file. \n",
    "pre_trained_model = SentenceTransformerModel(folder_path = '/Volumes/workplace/upload_content/export_huggingface/', overwrite = True)\n",
    "pre_trained_model.save_as_pt(sentences = ['today is sunny'])"
   ]
  },
  {
   "cell_type": "markdown",
   "id": "c9bd0405",
   "metadata": {},
   "source": [
    "## Step 6: Upload the model to OpenSearch cluster\n",
    "After generated a model zip file, the users will need to describe model configuration in a ml-commons_model_config.json file. The `make_model_config_json` function in sentencetransformermodel class will parse the config file from hugging-face config.son file. If users would like to use a different config than the pre-trained sentence transformer, `make_model_config_json` function provide arguuments to change the configuration content and generated a ml-commons_model_config.json file. Plese visit the [SentenceTransformerModel.make_model_config_json](https://opensearch-project.github.io/opensearch-py-ml/reference/api/sentence_transformer.html#opensearch_py_ml.sentence_transformer_model.SentenceTransformerModel.make_model_config_json) for API Reference . \n",
    "\n",
    "In general, the ml common client supports uploading sentence transformer models. With a zip file contains model in  Torch Script format, and a configuration file for tokenizers in json format, the `upload_model` function connects to opensearch through ml client and upload the model. Plese visit the [MLCommonClient.upload_model](https://opensearch-project.github.io/opensearch-py-ml/reference/api/ml_commons_upload_api.html#opensearch_py_ml.ml_commons_integration.MLCommonClient.upload_model) for API Reference. "
   ]
  },
  {
   "cell_type": "code",
   "execution_count": 10,
   "id": "dbe84425",
   "metadata": {},
   "outputs": [
    {
     "name": "stdout",
     "output_type": "stream",
     "text": [
      "ml-commons_model_config.json file is saved at :  /Volumes/workplace/upload_content/model_files/ml-commons_model_config.json\n"
     ]
    }
   ],
   "source": [
    "#users will need to prepare a ml-commons_model_config.json file to config the model, including model name ..\n",
    "#this is a helpful function in py-ml.sentence_transformer_model to generate ml-commons_model_config.json file\n",
    "custom_model.make_model_config_json()"
   ]
  },
  {
   "cell_type": "code",
   "execution_count": 11,
   "id": "ce9cc2b9",
   "metadata": {},
   "outputs": [],
   "source": [
    "#connect to ml_common client with OpenSearch client\n",
    "import opensearch_py_ml as oml\n",
    "from opensearch_py_ml.ml_commons import MLCommonClient\n",
    "ml_client = MLCommonClient(client)"
   ]
  },
  {
   "cell_type": "code",
   "execution_count": 12,
   "id": "c7b0ff7e",
   "metadata": {},
   "outputs": [
    {
     "name": "stdout",
     "output_type": "stream",
     "text": [
      "Total number of chunks 27\n",
      "Sha1 value of the model file:  1a198957ec8a759e83f1e862ad46bb120c6c1b5a031e75c415c1a893c87a3da7\n",
      "Model meta data was created successfully. Model Id:  cz2RloUB6UQeRtfO8Jph\n",
      "uploading chunk 1 of 27\n",
      "{'status': 'Uploaded'}\n",
      "uploading chunk 2 of 27\n",
      "{'status': 'Uploaded'}\n",
      "uploading chunk 3 of 27\n",
      "{'status': 'Uploaded'}\n",
      "uploading chunk 4 of 27\n",
      "{'status': 'Uploaded'}\n",
      "uploading chunk 5 of 27\n",
      "{'status': 'Uploaded'}\n",
      "uploading chunk 6 of 27\n",
      "{'status': 'Uploaded'}\n",
      "uploading chunk 7 of 27\n",
      "{'status': 'Uploaded'}\n",
      "uploading chunk 8 of 27\n",
      "{'status': 'Uploaded'}\n",
      "uploading chunk 9 of 27\n",
      "{'status': 'Uploaded'}\n",
      "uploading chunk 10 of 27\n",
      "{'status': 'Uploaded'}\n",
      "uploading chunk 11 of 27\n",
      "{'status': 'Uploaded'}\n",
      "uploading chunk 12 of 27\n",
      "{'status': 'Uploaded'}\n",
      "uploading chunk 13 of 27\n",
      "{'status': 'Uploaded'}\n",
      "uploading chunk 14 of 27\n",
      "{'status': 'Uploaded'}\n",
      "uploading chunk 15 of 27\n",
      "{'status': 'Uploaded'}\n",
      "uploading chunk 16 of 27\n",
      "{'status': 'Uploaded'}\n",
      "uploading chunk 17 of 27\n",
      "{'status': 'Uploaded'}\n",
      "uploading chunk 18 of 27\n",
      "{'status': 'Uploaded'}\n",
      "uploading chunk 19 of 27\n",
      "{'status': 'Uploaded'}\n",
      "uploading chunk 20 of 27\n",
      "{'status': 'Uploaded'}\n",
      "uploading chunk 21 of 27\n",
      "{'status': 'Uploaded'}\n",
      "uploading chunk 22 of 27\n",
      "{'status': 'Uploaded'}\n",
      "uploading chunk 23 of 27\n",
      "{'status': 'Uploaded'}\n",
      "uploading chunk 24 of 27\n",
      "{'status': 'Uploaded'}\n",
      "uploading chunk 25 of 27\n",
      "{'status': 'Uploaded'}\n",
      "uploading chunk 26 of 27\n",
      "{'status': 'Uploaded'}\n",
      "uploading chunk 27 of 27\n",
      "{'status': 'Uploaded'}\n",
      "Model uploaded successfully\n"
     ]
    },
    {
     "data": {
      "text/plain": [
       "'cz2RloUB6UQeRtfO8Jph'"
      ]
     },
     "execution_count": 12,
     "metadata": {},
     "output_type": "execute_result"
    }
   ],
   "source": [
    "# upload model to OpenSearch cluster, using model zip file path and ml-commons_model_config.json file generated above\n",
    "\n",
    "model_path = '/Volumes/workplace/upload_content/model_files/test2_model.zip'\n",
    "model_config_path = '/Volumes/workplace/upload_content/model_files/ml-commons_model_config.json'\n",
    "ml_client.upload_model( model_path, model_config_path, isVerbose=True)"
   ]
  }
 ],
 "metadata": {
  "kernelspec": {
   "display_name": "Python 3 (ipykernel)",
   "language": "python",
   "name": "python3"
  },
  "language_info": {
   "codemirror_mode": {
    "name": "ipython",
    "version": 3
   },
   "file_extension": ".py",
   "mimetype": "text/x-python",
   "name": "python",
   "nbconvert_exporter": "python",
   "pygments_lexer": "ipython3",
   "version": "3.9.15"
  }
 },
 "nbformat": 4,
 "nbformat_minor": 5
}
