{
 "cells": [
  {
   "cell_type": "markdown",
   "id": "a956cfe2",
   "metadata": {},
   "source": [
    "# Demo Notebook for Sentence Transformer Model Training, Saving and Uploading to OpenSearch\n",
    "This notebook provides a walkthrough guidance for users use their synthetic queries to fine tune and train a sentence transformer model. In this notebook, you use opensearch_py_ml to accomplish the following:\n",
    "\n",
    "Step 0: Import packages and set up client\n",
    "\n",
    "Step 1: Read synthetic queries and train/fine-tune model using a hugging face sentence transformer model\n",
    "\n",
    "Step 2: (Optional) Save model\n",
    "\n",
    "Step 3: Upload the model to OpenSearch cluster"
   ]
  },
  {
   "cell_type": "markdown",
   "id": "fba4c02d",
   "metadata": {},
   "source": [
    "# Demo Notebook for Sentence Transformer Model Training, Saving and Uploading to OpenSearch\n",
    "This notebook provides a walkthrough guidance for users use their synthetic queries to fine tune and train a sentence transformer model. In this notebook, you use opensearch_py_ml to accomplish the following:\n",
    "\n",
    "Step 0: Import packages and set up client\n",
    "\n",
    "Step 1: Read synthetic queries and train/fine-tune model using a hugging face sentence transformer model\n",
    "\n",
    "Step 2: (Optional) Save model\n",
    "\n",
    "Step 3: Upload the model to OpenSearch cluster"
   ]
  },
  {
   "cell_type": "markdown",
   "id": "7011727e",
   "metadata": {},
   "source": [
    "## Step 0: Import packages and set up client\n",
    "Install required packages for opensearch_py_ml.sentence_transformer_model\n",
    "Install `opensearchpy` and `opensearch-py-ml` through pypi\n",
    "\n",
    "Please refer https://pytorch.org/ to proper install torch based on your environment setting.  "
   ]
  },
  {
   "cell_type": "code",
   "execution_count": 1,
   "id": "17a3e085",
   "metadata": {
    "scrolled": true
   },
   "outputs": [],
   "source": [
    "# pip install pandas matplotlib numpy torch accelerate sentence_transformers tqdm transformers opensearch-py opensearch-py-ml "
   ]
  },
  {
   "cell_type": "code",
   "execution_count": 2,
   "id": "87c021df",
   "metadata": {
    "pycharm": {
     "is_executing": true
    }
   },
   "outputs": [],
   "source": [
    "import warnings\n",
    "warnings.filterwarnings('ignore')\n",
    "import opensearch_py_ml as oml\n",
    "from opensearchpy import OpenSearch\n",
    "from opensearch_py_ml.ml_models import SentenceTransformerModel"
   ]
  },
  {
   "cell_type": "code",
   "execution_count": 3,
   "id": "798cac25",
   "metadata": {},
   "outputs": [],
   "source": [
    "# import mlcommon to later upload the model to OpenSearch Cluster\n",
    "from opensearch_py_ml.ml_commons import MLCommonClient"
   ]
  },
  {
   "cell_type": "code",
   "execution_count": 4,
   "id": "5c85ae17",
   "metadata": {},
   "outputs": [],
   "source": [
    "CLUSTER_URL = 'https://localhost:9200'"
   ]
  },
  {
   "cell_type": "code",
   "execution_count": 5,
   "id": "77442abf",
   "metadata": {},
   "outputs": [],
   "source": [
    "def get_os_client(cluster_url = CLUSTER_URL,\n",
    "                  username='admin',\n",
    "                  password='admin'):\n",
    "    '''\n",
    "    Get OpenSearch client\n",
    "    :param cluster_url: cluster URL like https://ml-te-netwo-1s12ba42br23v-ff1736fa7db98ff2.elb.us-west-2.amazonaws.com:443\n",
    "    :return: OpenSearch client\n",
    "    '''\n",
    "    client = OpenSearch(\n",
    "        hosts=[cluster_url],\n",
    "        http_auth=(username, password),\n",
    "        verify_certs=False\n",
    "    )\n",
    "    return client "
   ]
  },
  {
   "cell_type": "code",
   "execution_count": 6,
   "id": "89e1cb2a",
   "metadata": {},
   "outputs": [],
   "source": [
    "client = get_os_client()"
   ]
  },
  {
   "cell_type": "markdown",
   "id": "4da9e0de",
   "metadata": {},
   "source": [
    "## Step 1: Read synthetic queries and train/fine-tune model using a hugging face sentence transformer model\n",
    "With a synthetic queries zip file, users can fine tune a sentence transformer model. \n",
    "\n",
    "The `SentenceTransformerModel` class will inititate an object for training, exporting and configuring the model. Plese visit the [SentenceTransformerModel](https://opensearch-project.github.io/opensearch-py-ml/reference/api/sentence_transformer.html#opensearch_py_ml.sentence_transformer_model.SentenceTransformerModel) for API Reference . \n",
    "\n",
    "The `train` function will import synthestic queries, load sentence transformer example and train the model using a hugging face sentence transformer model. Plese visit the [SentenceTransformerModel.train](https://opensearch-project.github.io/opensearch-py-ml/reference/api/sentence_transformer.html#opensearch_py_ml.sentence_transformer_model.SentenceTransformerModel.train) for API Reference . "
   ]
  },
  {
   "cell_type": "code",
   "execution_count": 7,
   "id": "f1a337ac",
   "metadata": {},
   "outputs": [],
   "source": [
    "# clean up cache before training to free up spaces\n",
    "import gc, torch\n",
    "\n",
    "gc.collect()\n",
    "\n",
    "torch.cuda.empty_cache()"
   ]
  },
  {
   "cell_type": "code",
   "execution_count": 8,
   "id": "4b37e9ac",
   "metadata": {},
   "outputs": [
    {
     "name": "stdout",
     "output_type": "stream",
     "text": [
      "reading synthetic query file: /Volumes/workplace/upload_content/model_files/synthetic_queries/synthetic_queries_batch_3.p\n",
      "\n",
      "reading synthetic query file: /Volumes/workplace/upload_content/model_files/synthetic_queries/synthetic_queries_batch_0.p\n",
      "\n",
      "reading synthetic query file: /Volumes/workplace/upload_content/model_files/synthetic_queries/synthetic_queries_batch_1.p\n",
      "\n",
      "reading synthetic query file: /Volumes/workplace/upload_content/model_files/synthetic_queries/synthetic_queries_batch_2.p\n",
      "\n",
      "Loading training examples... \n",
      "\n"
     ]
    },
    {
     "name": "stderr",
     "output_type": "stream",
     "text": [
      "100%|██████████| 243/243 [00:00<00:00, 197064.17it/s]"
     ]
    },
    {
     "name": "stdout",
     "output_type": "stream",
     "text": [
      "[{'compute_environment': 'LOCAL_MACHINE', 'deepspeed_config': {'gradient_accumulation_steps': 1, 'offload_optimizer_device': 'none', 'offload_param_device': 'none', 'zero3_init_flag': False, 'zero_stage': 2}, 'distributed_type': 'DEEPSPEED', 'downcast_bf16': 'no', 'fsdp_config': {}, 'machine_rank': 0, 'main_process_ip': None, 'main_process_port': None, 'main_training_function': 'main', 'mixed_precision': 'no', 'num_machines': 1, 'num_processes': 1, 'use_cpu': False}]\n",
      "Launching training on MPS.\n"
     ]
    },
    {
     "name": "stderr",
     "output_type": "stream",
     "text": [
      "\n"
     ]
    },
    {
     "name": "stdout",
     "output_type": "stream",
     "text": [
      "Start training with accelerator...\n",
      "\n",
      "The total number of steps training epoch are 8\n",
      "\n",
      "Training epoch 0...\n",
      "\n"
     ]
    },
    {
     "name": "stderr",
     "output_type": "stream",
     "text": [
      "100%|██████████| 8/8 [00:15<00:00,  1.96s/it]\n"
     ]
    },
    {
     "name": "stdout",
     "output_type": "stream",
     "text": [
      "Total training time: 16.737305164337158\n",
      "\n",
      "Model saved to path: /Volumes/workplace/upload_content/model_files/test2_model.pt\n",
      "\n",
      "tokenizer_json_path:  /Volumes/workplace/upload_content/model_files/tokenizer.json\n",
      "zip file is saved to /Volumes/workplace/upload_content/model_files/test2_model.zip\n",
      "\n"
     ]
    }
   ],
   "source": [
    "# initiate SentenceTransformerModel object and run train function\n",
    "# num_processes should be less than the number of gpus on the users' machine, if None, it will auto apply \n",
    "# all the available gpus on the machine \n",
    "custom_model = SentenceTransformerModel(folder_path=\"/Volumes/workplace/upload_content/model_files/\", overwrite = True)\n",
    "training = custom_model.train(read_path = '/Volumes/workplace/upload_content/synthetic_queries.zip',\n",
    "                        output_model_name = 'test2_model.pt',\n",
    "                        zip_file_name= 'test2_model.zip',\n",
    "                        overwrite = True,\n",
    "                        use_accelerate  = True,  \n",
    "                        num_machines = 1,\n",
    "                        num_processes = 1,\n",
    "                        num_epochs = 1,\n",
    "                        verbose = False)"
   ]
  },
  {
   "cell_type": "markdown",
   "id": "4a655a9c",
   "metadata": {},
   "source": [
    "## Step 2: (Optional) Save model\n",
    "If following step 1, the model zip will be auto generated, and the print message will indicate the zip file path as shown above. \n",
    "\n",
    "But if using other pretrained sentence transformer model from Hugging face, users can use `save_as_pt` function to save a pre-trained sentence transformer model for inferencing or benchmark with other models. \n",
    "\n",
    "The `save_as_pt`  function will prepare the model in proper format(Torch Script) along with tokenizers configuration file to upload to OpenSearch. Plese visit the [SentenceTransformerModel.save_as_pt](https://opensearch-project.github.io/opensearch-py-ml/reference/api/sentence_transformer.html#opensearch_py_ml.sentence_transformer_model.SentenceTransformerModel.save_as_pt) for API Reference . "
   ]
  },
  {
   "cell_type": "code",
   "execution_count": 9,
   "id": "503f8136",
   "metadata": {},
   "outputs": [
    {
     "name": "stdout",
     "output_type": "stream",
     "text": [
      "model file is saved to  /Volumes/workplace/upload_content/export_huggingface/msmarco-distilbert-base-tas-b.pt\n",
      "zip file is saved to  /Volumes/workplace/upload_content/export_huggingface/msmarco-distilbert-base-tas-b.zip \n",
      "\n"
     ]
    },
    {
     "data": {
      "text/plain": [
       "SentenceTransformer(\n",
       "  original_name=SentenceTransformer\n",
       "  (0): Transformer(\n",
       "    original_name=Transformer\n",
       "    (auto_model): DistilBertModel(\n",
       "      original_name=DistilBertModel\n",
       "      (embeddings): Embeddings(\n",
       "        original_name=Embeddings\n",
       "        (word_embeddings): Embedding(original_name=Embedding)\n",
       "        (position_embeddings): Embedding(original_name=Embedding)\n",
       "        (LayerNorm): LayerNorm(original_name=LayerNorm)\n",
       "        (dropout): Dropout(original_name=Dropout)\n",
       "      )\n",
       "      (transformer): Transformer(\n",
       "        original_name=Transformer\n",
       "        (layer): ModuleList(\n",
       "          original_name=ModuleList\n",
       "          (0): TransformerBlock(\n",
       "            original_name=TransformerBlock\n",
       "            (attention): MultiHeadSelfAttention(\n",
       "              original_name=MultiHeadSelfAttention\n",
       "              (dropout): Dropout(original_name=Dropout)\n",
       "              (q_lin): Linear(original_name=Linear)\n",
       "              (k_lin): Linear(original_name=Linear)\n",
       "              (v_lin): Linear(original_name=Linear)\n",
       "              (out_lin): Linear(original_name=Linear)\n",
       "            )\n",
       "            (sa_layer_norm): LayerNorm(original_name=LayerNorm)\n",
       "            (ffn): FFN(\n",
       "              original_name=FFN\n",
       "              (dropout): Dropout(original_name=Dropout)\n",
       "              (lin1): Linear(original_name=Linear)\n",
       "              (lin2): Linear(original_name=Linear)\n",
       "            )\n",
       "            (output_layer_norm): LayerNorm(original_name=LayerNorm)\n",
       "          )\n",
       "          (1): TransformerBlock(\n",
       "            original_name=TransformerBlock\n",
       "            (attention): MultiHeadSelfAttention(\n",
       "              original_name=MultiHeadSelfAttention\n",
       "              (dropout): Dropout(original_name=Dropout)\n",
       "              (q_lin): Linear(original_name=Linear)\n",
       "              (k_lin): Linear(original_name=Linear)\n",
       "              (v_lin): Linear(original_name=Linear)\n",
       "              (out_lin): Linear(original_name=Linear)\n",
       "            )\n",
       "            (sa_layer_norm): LayerNorm(original_name=LayerNorm)\n",
       "            (ffn): FFN(\n",
       "              original_name=FFN\n",
       "              (dropout): Dropout(original_name=Dropout)\n",
       "              (lin1): Linear(original_name=Linear)\n",
       "              (lin2): Linear(original_name=Linear)\n",
       "            )\n",
       "            (output_layer_norm): LayerNorm(original_name=LayerNorm)\n",
       "          )\n",
       "          (2): TransformerBlock(\n",
       "            original_name=TransformerBlock\n",
       "            (attention): MultiHeadSelfAttention(\n",
       "              original_name=MultiHeadSelfAttention\n",
       "              (dropout): Dropout(original_name=Dropout)\n",
       "              (q_lin): Linear(original_name=Linear)\n",
       "              (k_lin): Linear(original_name=Linear)\n",
       "              (v_lin): Linear(original_name=Linear)\n",
       "              (out_lin): Linear(original_name=Linear)\n",
       "            )\n",
       "            (sa_layer_norm): LayerNorm(original_name=LayerNorm)\n",
       "            (ffn): FFN(\n",
       "              original_name=FFN\n",
       "              (dropout): Dropout(original_name=Dropout)\n",
       "              (lin1): Linear(original_name=Linear)\n",
       "              (lin2): Linear(original_name=Linear)\n",
       "            )\n",
       "            (output_layer_norm): LayerNorm(original_name=LayerNorm)\n",
       "          )\n",
       "          (3): TransformerBlock(\n",
       "            original_name=TransformerBlock\n",
       "            (attention): MultiHeadSelfAttention(\n",
       "              original_name=MultiHeadSelfAttention\n",
       "              (dropout): Dropout(original_name=Dropout)\n",
       "              (q_lin): Linear(original_name=Linear)\n",
       "              (k_lin): Linear(original_name=Linear)\n",
       "              (v_lin): Linear(original_name=Linear)\n",
       "              (out_lin): Linear(original_name=Linear)\n",
       "            )\n",
       "            (sa_layer_norm): LayerNorm(original_name=LayerNorm)\n",
       "            (ffn): FFN(\n",
       "              original_name=FFN\n",
       "              (dropout): Dropout(original_name=Dropout)\n",
       "              (lin1): Linear(original_name=Linear)\n",
       "              (lin2): Linear(original_name=Linear)\n",
       "            )\n",
       "            (output_layer_norm): LayerNorm(original_name=LayerNorm)\n",
       "          )\n",
       "          (4): TransformerBlock(\n",
       "            original_name=TransformerBlock\n",
       "            (attention): MultiHeadSelfAttention(\n",
       "              original_name=MultiHeadSelfAttention\n",
       "              (dropout): Dropout(original_name=Dropout)\n",
       "              (q_lin): Linear(original_name=Linear)\n",
       "              (k_lin): Linear(original_name=Linear)\n",
       "              (v_lin): Linear(original_name=Linear)\n",
       "              (out_lin): Linear(original_name=Linear)\n",
       "            )\n",
       "            (sa_layer_norm): LayerNorm(original_name=LayerNorm)\n",
       "            (ffn): FFN(\n",
       "              original_name=FFN\n",
       "              (dropout): Dropout(original_name=Dropout)\n",
       "              (lin1): Linear(original_name=Linear)\n",
       "              (lin2): Linear(original_name=Linear)\n",
       "            )\n",
       "            (output_layer_norm): LayerNorm(original_name=LayerNorm)\n",
       "          )\n",
       "          (5): TransformerBlock(\n",
       "            original_name=TransformerBlock\n",
       "            (attention): MultiHeadSelfAttention(\n",
       "              original_name=MultiHeadSelfAttention\n",
       "              (dropout): Dropout(original_name=Dropout)\n",
       "              (q_lin): Linear(original_name=Linear)\n",
       "              (k_lin): Linear(original_name=Linear)\n",
       "              (v_lin): Linear(original_name=Linear)\n",
       "              (out_lin): Linear(original_name=Linear)\n",
       "            )\n",
       "            (sa_layer_norm): LayerNorm(original_name=LayerNorm)\n",
       "            (ffn): FFN(\n",
       "              original_name=FFN\n",
       "              (dropout): Dropout(original_name=Dropout)\n",
       "              (lin1): Linear(original_name=Linear)\n",
       "              (lin2): Linear(original_name=Linear)\n",
       "            )\n",
       "            (output_layer_norm): LayerNorm(original_name=LayerNorm)\n",
       "          )\n",
       "        )\n",
       "      )\n",
       "    )\n",
       "  )\n",
       "  (1): Pooling(original_name=Pooling)\n",
       ")"
      ]
     },
     "execution_count": 9,
     "metadata": {},
     "output_type": "execute_result"
    }
   ],
   "source": [
    "# default to download model id, \"sentence-transformers/msmarco-distilbert-base-tas-b\" from hugging face \n",
    "# and output a model in a zip file containing model.pt file and tokenizers.json file. \n",
    "pre_trained_model = SentenceTransformerModel(folder_path = '/Volumes/workplace/upload_content/export_huggingface/', overwrite = True)\n",
    "pre_trained_model.save_as_pt(sentences = ['today is sunny'])"
   ]
  },
  {
   "cell_type": "markdown",
   "id": "c9bd0405",
   "metadata": {},
   "source": [
    "## Step 3: Upload the model to OpenSearch cluster\n",
    "After generated a model zip file, the users will need to describe model configuration in a ml-commons_model_config.json file. The `make_model_config_json` function in sentencetransformermodel class will parse the config file from hugging-face config.son file. If users would like to use a different config than the pre-trained sentence transformer, `make_model_config_json` function provide arguuments to change the configuration content and generated a ml-commons_model_config.json file. Plese visit the [SentenceTransformerModel.make_model_config_json](https://opensearch-project.github.io/opensearch-py-ml/reference/api/sentence_transformer.html#opensearch_py_ml.sentence_transformer_model.SentenceTransformerModel.make_model_config_json) for API Reference . \n",
    "\n",
    "In general, the ml common client supports uploading sentence transformer models. With a zip file contains model in  Torch Script format, and a configuration file for tokenizers in json format, the `upload_model` function connects to opensearch through ml client and upload the model. Plese visit the [MLCommonClient.upload_model](https://opensearch-project.github.io/opensearch-py-ml/reference/api/ml_commons_upload_api.html#opensearch_py_ml.ml_commons_integration.MLCommonClient.upload_model) for API Reference. "
   ]
  },
  {
   "cell_type": "code",
   "execution_count": 10,
   "id": "dbe84425",
   "metadata": {},
   "outputs": [
    {
     "name": "stdout",
     "output_type": "stream",
     "text": [
      "ml-commons_model_config.json file is saved at :  /Volumes/workplace/upload_content/model_files/ml-commons_model_config.json\n"
     ]
    }
   ],
   "source": [
    "#users will need to prepare a ml-commons_model_config.json file to config the model, including model name ..\n",
    "#this is a helpful function in py-ml.sentence_transformer_model to generate ml-commons_model_config.json file\n",
    "custom_model.make_model_config_json()"
   ]
  },
  {
   "cell_type": "code",
   "execution_count": 11,
   "id": "ce9cc2b9",
   "metadata": {},
   "outputs": [],
   "source": [
    "#connect to ml_common client with OpenSearch client\n",
    "import opensearch_py_ml as oml\n",
    "from opensearch_py_ml.ml_commons import MLCommonClient\n",
    "ml_client = MLCommonClient(client)"
   ]
  },
  {
   "cell_type": "code",
   "execution_count": 12,
   "id": "c7b0ff7e",
   "metadata": {},
   "outputs": [
    {
     "name": "stdout",
     "output_type": "stream",
     "text": [
      "Total number of chunks 27\n",
      "Sha1 value of the model file:  1a198957ec8a759e83f1e862ad46bb120c6c1b5a031e75c415c1a893c87a3da7\n",
      "Model meta data was created successfully. Model Id:  cz2RloUB6UQeRtfO8Jph\n",
      "uploading chunk 1 of 27\n",
      "{'status': 'Uploaded'}\n",
      "uploading chunk 2 of 27\n",
      "{'status': 'Uploaded'}\n",
      "uploading chunk 3 of 27\n",
      "{'status': 'Uploaded'}\n",
      "uploading chunk 4 of 27\n",
      "{'status': 'Uploaded'}\n",
      "uploading chunk 5 of 27\n",
      "{'status': 'Uploaded'}\n",
      "uploading chunk 6 of 27\n",
      "{'status': 'Uploaded'}\n",
      "uploading chunk 7 of 27\n",
      "{'status': 'Uploaded'}\n",
      "uploading chunk 8 of 27\n",
      "{'status': 'Uploaded'}\n",
      "uploading chunk 9 of 27\n",
      "{'status': 'Uploaded'}\n",
      "uploading chunk 10 of 27\n",
      "{'status': 'Uploaded'}\n",
      "uploading chunk 11 of 27\n",
      "{'status': 'Uploaded'}\n",
      "uploading chunk 12 of 27\n",
      "{'status': 'Uploaded'}\n",
      "uploading chunk 13 of 27\n",
      "{'status': 'Uploaded'}\n",
      "uploading chunk 14 of 27\n",
      "{'status': 'Uploaded'}\n",
      "uploading chunk 15 of 27\n",
      "{'status': 'Uploaded'}\n",
      "uploading chunk 16 of 27\n",
      "{'status': 'Uploaded'}\n",
      "uploading chunk 17 of 27\n",
      "{'status': 'Uploaded'}\n",
      "uploading chunk 18 of 27\n",
      "{'status': 'Uploaded'}\n",
      "uploading chunk 19 of 27\n",
      "{'status': 'Uploaded'}\n",
      "uploading chunk 20 of 27\n",
      "{'status': 'Uploaded'}\n",
      "uploading chunk 21 of 27\n",
      "{'status': 'Uploaded'}\n",
      "uploading chunk 22 of 27\n",
      "{'status': 'Uploaded'}\n",
      "uploading chunk 23 of 27\n",
      "{'status': 'Uploaded'}\n",
      "uploading chunk 24 of 27\n",
      "{'status': 'Uploaded'}\n",
      "uploading chunk 25 of 27\n",
      "{'status': 'Uploaded'}\n",
      "uploading chunk 26 of 27\n",
      "{'status': 'Uploaded'}\n",
      "uploading chunk 27 of 27\n",
      "{'status': 'Uploaded'}\n",
      "Model uploaded successfully\n"
     ]
    },
    {
     "data": {
      "text/plain": [
       "'cz2RloUB6UQeRtfO8Jph'"
      ]
     },
     "execution_count": 12,
     "metadata": {},
     "output_type": "execute_result"
    }
   ],
   "source": [
    "# upload model to OpenSearch cluster, using model zip file path and ml-commons_model_config.json file generated above\n",
    "\n",
    "model_path = '/Volumes/workplace/upload_content/model_files/test2_model.zip'\n",
    "model_config_path = '/Volumes/workplace/upload_content/model_files/ml-commons_model_config.json'\n",
    "ml_client.upload_model( model_path, model_config_path, isVerbose=True)"
   ]
  }
 ],
 "metadata": {
  "kernelspec": {
   "display_name": "Python 3 (ipykernel)",
   "language": "python",
   "name": "python3"
  },
  "language_info": {
   "codemirror_mode": {
    "name": "ipython",
    "version": 3
   },
   "file_extension": ".py",
   "mimetype": "text/x-python",
   "name": "python",
   "nbconvert_exporter": "python",
   "pygments_lexer": "ipython3",
   "version": "3.9.15"
  }
 },
 "nbformat": 4,
 "nbformat_minor": 5
}
