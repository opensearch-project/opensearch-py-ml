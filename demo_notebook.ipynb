{
 "cells": [
  {
   "cell_type": "markdown",
   "id": "b98e2555",
   "metadata": {},
   "source": [
    "# Step 0: Imports"
   ]
  },
  {
   "cell_type": "code",
   "execution_count": 16,
   "id": "09cac324",
   "metadata": {},
   "outputs": [
    {
     "name": "stdout",
     "output_type": "stream",
     "text": [
      "The autoreload extension is already loaded. To reload it, use:\n",
      "  %reload_ext autoreload\n"
     ]
    }
   ],
   "source": [
    "# %load_ext autoreload\n",
    "# %autoreload 2"
   ]
  },
  {
   "cell_type": "code",
   "execution_count": 1,
   "id": "6df1a142",
   "metadata": {},
   "outputs": [],
   "source": [
    "# import this to stop opensearch-py-ml from yelling every time a DataFrame connection made\n",
    "import warnings\n",
    "warnings.filterwarnings('ignore')"
   ]
  },
  {
   "cell_type": "code",
   "execution_count": 2,
   "id": "04411e1d",
   "metadata": {},
   "outputs": [],
   "source": [
    "# imports to demonstrate DataFrame support\n",
    "import pandas as pd\n",
    "import numpy as np\n",
    "import opensearch_py_ml as oml\n",
    "from opensearchpy import OpenSearch"
   ]
  },
  {
   "cell_type": "code",
   "execution_count": 30,
   "id": "45b519b3",
   "metadata": {},
   "outputs": [],
   "source": [
    "# imports to demonstrate SageMaker integration\n",
    "import sagemaker\n",
    "from sagemaker import RealTimePredictor\n",
    "from opensearchpy import helpers\n",
    "import boto3\n",
    "import json\n",
    "\n",
    "from tests import (\n",
    "    ECOMMERCE_FILE_NAME,\n",
    "    ECOMMERCE_INDEX_NAME,\n",
    "    ECOMMERCE_MAPPING,\n",
    "    OPENSEARCH_HOST,\n",
    "    OPENSEARCH_TEST_CLIENT,\n",
    "    FLIGHTS_FILE_NAME,\n",
    "    FLIGHTS_INDEX_NAME,\n",
    "    FLIGHTS_MAPPING,\n",
    "    FLIGHTS_SMALL_FILE_NAME,\n",
    "    FLIGHTS_SMALL_INDEX_NAME,\n",
    "    TEST_MAPPING1,\n",
    "    TEST_MAPPING1_INDEX_NAME,\n",
    "    TEST_NESTED_USER_GROUP_DOCS,\n",
    "    TEST_NESTED_USER_GROUP_INDEX_NAME,\n",
    "    TEST_NESTED_USER_GROUP_MAPPING,\n",
    ")\n",
    "\n"
   ]
  },
  {
   "cell_type": "code",
   "execution_count": 4,
   "id": "951b9292",
   "metadata": {},
   "outputs": [],
   "source": [
    "# imports to demonstrate ml-commons integration\n",
    "from opensearch_py_ml.ml_commons_integration import MLCommonClient"
   ]
  },
  {
   "cell_type": "markdown",
   "id": "5e03f3c2",
   "metadata": {},
   "source": [
    "# Step 1: Setup clients "
   ]
  },
  {
   "cell_type": "code",
   "execution_count": 15,
   "id": "7ca9cbc3",
   "metadata": {},
   "outputs": [],
   "source": [
    "CLUSTER_URL = 'https://localhost:9200'"
   ]
  },
  {
   "cell_type": "code",
   "execution_count": 16,
   "id": "a8270355",
   "metadata": {},
   "outputs": [],
   "source": [
    "def get_os_client(cluster_url = CLUSTER_URL,\n",
    "                  username='admin',\n",
    "                  password='admin'):\n",
    "    '''\n",
    "    Get OpenSearch client\n",
    "    :param cluster_url: cluster URL like https://ml-te-netwo-1s12ba42br23v-ff1736fa7db98ff2.elb.us-west-2.amazonaws.com:443\n",
    "    :return: OpenSearch client\n",
    "    '''\n",
    "    client = OpenSearch(\n",
    "        hosts=[cluster_url],\n",
    "        http_auth=(username, password),\n",
    "        verify_certs=False\n",
    "    )\n",
    "    return client"
   ]
  },
  {
   "cell_type": "code",
   "execution_count": 17,
   "id": "57ca8b91",
   "metadata": {},
   "outputs": [],
   "source": [
    "client = get_os_client()\n",
    "ml_client = MLCommonClient(client)"
   ]
  },
  {
   "cell_type": "markdown",
   "id": "d99d483e",
   "metadata": {},
   "source": [
    "to do SageMaker integration, make sure your boto3 Session has the appropriate credentials."
   ]
  },
  {
   "cell_type": "code",
   "execution_count": 18,
   "id": "cf9b7031",
   "metadata": {},
   "outputs": [],
   "source": [
    "sess = boto3.Session()\n",
    "smclient = sess.client('sagemaker')"
   ]
  },
  {
   "cell_type": "code",
   "execution_count": 19,
   "id": "9921681e",
   "metadata": {},
   "outputs": [
    {
     "ename": "ClientError",
     "evalue": "An error occurred (ExpiredTokenException) when calling the ListEndpoints operation: The security token included in the request is expired",
     "output_type": "error",
     "traceback": [
      "\u001B[0;31m---------------------------------------------------------------------------\u001B[0m",
      "\u001B[0;31mClientError\u001B[0m                               Traceback (most recent call last)",
      "Input \u001B[0;32mIn [19]\u001B[0m, in \u001B[0;36m<cell line: 1>\u001B[0;34m()\u001B[0m\n\u001B[0;32m----> 1\u001B[0m \u001B[43msmclient\u001B[49m\u001B[38;5;241;43m.\u001B[39;49m\u001B[43mlist_endpoints\u001B[49m\u001B[43m(\u001B[49m\u001B[43m)\u001B[49m\n",
      "File \u001B[0;32m/usr/local/lib/python3.9/site-packages/botocore/client.py:391\u001B[0m, in \u001B[0;36mClientCreator._create_api_method.<locals>._api_call\u001B[0;34m(self, *args, **kwargs)\u001B[0m\n\u001B[1;32m    388\u001B[0m     \u001B[38;5;28;01mraise\u001B[39;00m \u001B[38;5;167;01mTypeError\u001B[39;00m(\n\u001B[1;32m    389\u001B[0m         \u001B[38;5;124m\"\u001B[39m\u001B[38;5;132;01m%s\u001B[39;00m\u001B[38;5;124m() only accepts keyword arguments.\u001B[39m\u001B[38;5;124m\"\u001B[39m \u001B[38;5;241m%\u001B[39m py_operation_name)\n\u001B[1;32m    390\u001B[0m \u001B[38;5;66;03m# The \"self\" in this scope is referring to the BaseClient.\u001B[39;00m\n\u001B[0;32m--> 391\u001B[0m \u001B[38;5;28;01mreturn\u001B[39;00m \u001B[38;5;28;43mself\u001B[39;49m\u001B[38;5;241;43m.\u001B[39;49m\u001B[43m_make_api_call\u001B[49m\u001B[43m(\u001B[49m\u001B[43moperation_name\u001B[49m\u001B[43m,\u001B[49m\u001B[43m \u001B[49m\u001B[43mkwargs\u001B[49m\u001B[43m)\u001B[49m\n",
      "File \u001B[0;32m/usr/local/lib/python3.9/site-packages/botocore/client.py:719\u001B[0m, in \u001B[0;36mBaseClient._make_api_call\u001B[0;34m(self, operation_name, api_params)\u001B[0m\n\u001B[1;32m    717\u001B[0m     error_code \u001B[38;5;241m=\u001B[39m parsed_response\u001B[38;5;241m.\u001B[39mget(\u001B[38;5;124m\"\u001B[39m\u001B[38;5;124mError\u001B[39m\u001B[38;5;124m\"\u001B[39m, {})\u001B[38;5;241m.\u001B[39mget(\u001B[38;5;124m\"\u001B[39m\u001B[38;5;124mCode\u001B[39m\u001B[38;5;124m\"\u001B[39m)\n\u001B[1;32m    718\u001B[0m     error_class \u001B[38;5;241m=\u001B[39m \u001B[38;5;28mself\u001B[39m\u001B[38;5;241m.\u001B[39mexceptions\u001B[38;5;241m.\u001B[39mfrom_code(error_code)\n\u001B[0;32m--> 719\u001B[0m     \u001B[38;5;28;01mraise\u001B[39;00m error_class(parsed_response, operation_name)\n\u001B[1;32m    720\u001B[0m \u001B[38;5;28;01melse\u001B[39;00m:\n\u001B[1;32m    721\u001B[0m     \u001B[38;5;28;01mreturn\u001B[39;00m parsed_response\n",
      "\u001B[0;31mClientError\u001B[0m: An error occurred (ExpiredTokenException) when calling the ListEndpoints operation: The security token included in the request is expired"
     ]
    }
   ],
   "source": [
    "smclient.list_endpoints()"
   ]
  },
  {
   "cell_type": "markdown",
   "id": "2c53cc52",
   "metadata": {},
   "source": [
    "# Step 2: Showcase DataFrame support"
   ]
  },
  {
   "cell_type": "markdown",
   "id": "41d1f650",
   "metadata": {},
   "source": [
    "opensearch-py-ml Dataframes function similarly to pandas Dataframes, but reside entirely in the OpenSearch cluster and are refreshed with each call."
   ]
  },
  {
   "cell_type": "code",
   "execution_count": 28,
   "id": "b3def2cd",
   "metadata": {},
   "outputs": [],
   "source": [
    "ecommerce_oml = oml.DataFrame(client, 'opensearch_dashboards_sample_data_ecommerce')"
   ]
  },
  {
   "cell_type": "code",
   "execution_count": 21,
   "id": "cbc5d6e9",
   "metadata": {},
   "outputs": [
    {
     "data": {
      "text/html": [
       "<div>\n",
       "<style scoped>\n",
       "    .dataframe tbody tr th:only-of-type {\n",
       "        vertical-align: middle;\n",
       "    }\n",
       "\n",
       "    .dataframe tbody tr th {\n",
       "        vertical-align: top;\n",
       "    }\n",
       "\n",
       "    .dataframe thead th {\n",
       "        text-align: right;\n",
       "    }\n",
       "</style>\n",
       "<table border=\"1\" class=\"dataframe\">\n",
       "  <thead>\n",
       "    <tr style=\"text-align: right;\">\n",
       "      <th></th>\n",
       "      <th>category</th>\n",
       "      <th>currency</th>\n",
       "      <th>customer_birth_date</th>\n",
       "      <th>customer_first_name</th>\n",
       "      <th>customer_full_name</th>\n",
       "      <th>customer_gender</th>\n",
       "      <th>customer_id</th>\n",
       "      <th>customer_last_name</th>\n",
       "      <th>customer_phone</th>\n",
       "      <th>day_of_week</th>\n",
       "      <th>...</th>\n",
       "      <th>products.taxful_price</th>\n",
       "      <th>products.taxless_price</th>\n",
       "      <th>products.unit_discount_amount</th>\n",
       "      <th>sku</th>\n",
       "      <th>taxful_total_price</th>\n",
       "      <th>taxless_total_price</th>\n",
       "      <th>total_quantity</th>\n",
       "      <th>total_unique_products</th>\n",
       "      <th>type</th>\n",
       "      <th>user</th>\n",
       "    </tr>\n",
       "  </thead>\n",
       "  <tbody>\n",
       "    <tr>\n",
       "      <th>N9om64IBP2tbyBgXA2Qu</th>\n",
       "      <td>[Men's Clothing]</td>\n",
       "      <td>EUR</td>\n",
       "      <td>NaT</td>\n",
       "      <td>Eddie</td>\n",
       "      <td>Eddie Underwood</td>\n",
       "      <td>MALE</td>\n",
       "      <td>38</td>\n",
       "      <td>Underwood</td>\n",
       "      <td></td>\n",
       "      <td>Monday</td>\n",
       "      <td>...</td>\n",
       "      <td>[11.99, 24.99]</td>\n",
       "      <td>[11.99, 24.99]</td>\n",
       "      <td>[0, 0]</td>\n",
       "      <td>[ZO0549605496, ZO0299602996]</td>\n",
       "      <td>36.98</td>\n",
       "      <td>36.98</td>\n",
       "      <td>2</td>\n",
       "      <td>2</td>\n",
       "      <td>order</td>\n",
       "      <td>eddie</td>\n",
       "    </tr>\n",
       "    <tr>\n",
       "      <th>ONom64IBP2tbyBgXA2Qu</th>\n",
       "      <td>[Women's Clothing]</td>\n",
       "      <td>EUR</td>\n",
       "      <td>NaT</td>\n",
       "      <td>Mary</td>\n",
       "      <td>Mary Bailey</td>\n",
       "      <td>FEMALE</td>\n",
       "      <td>20</td>\n",
       "      <td>Bailey</td>\n",
       "      <td></td>\n",
       "      <td>Sunday</td>\n",
       "      <td>...</td>\n",
       "      <td>[24.99, 28.99]</td>\n",
       "      <td>[24.99, 28.99]</td>\n",
       "      <td>[0, 0]</td>\n",
       "      <td>[ZO0489604896, ZO0185501855]</td>\n",
       "      <td>53.98</td>\n",
       "      <td>53.98</td>\n",
       "      <td>2</td>\n",
       "      <td>2</td>\n",
       "      <td>order</td>\n",
       "      <td>mary</td>\n",
       "    </tr>\n",
       "    <tr>\n",
       "      <th>Odom64IBP2tbyBgXA2Qv</th>\n",
       "      <td>[Women's Shoes, Women's Clothing]</td>\n",
       "      <td>EUR</td>\n",
       "      <td>NaT</td>\n",
       "      <td>Gwen</td>\n",
       "      <td>Gwen Butler</td>\n",
       "      <td>FEMALE</td>\n",
       "      <td>26</td>\n",
       "      <td>Butler</td>\n",
       "      <td></td>\n",
       "      <td>Sunday</td>\n",
       "      <td>...</td>\n",
       "      <td>[99.99, 99.99]</td>\n",
       "      <td>[99.99, 99.99]</td>\n",
       "      <td>[0, 0]</td>\n",
       "      <td>[ZO0374603746, ZO0272202722]</td>\n",
       "      <td>199.98</td>\n",
       "      <td>199.98</td>\n",
       "      <td>2</td>\n",
       "      <td>2</td>\n",
       "      <td>order</td>\n",
       "      <td>gwen</td>\n",
       "    </tr>\n",
       "    <tr>\n",
       "      <th>Otom64IBP2tbyBgXA2Qv</th>\n",
       "      <td>[Women's Shoes, Women's Clothing]</td>\n",
       "      <td>EUR</td>\n",
       "      <td>NaT</td>\n",
       "      <td>Diane</td>\n",
       "      <td>Diane Chandler</td>\n",
       "      <td>FEMALE</td>\n",
       "      <td>22</td>\n",
       "      <td>Chandler</td>\n",
       "      <td></td>\n",
       "      <td>Sunday</td>\n",
       "      <td>...</td>\n",
       "      <td>[74.99, 99.99]</td>\n",
       "      <td>[74.99, 99.99]</td>\n",
       "      <td>[0, 0]</td>\n",
       "      <td>[ZO0360303603, ZO0272002720]</td>\n",
       "      <td>174.98</td>\n",
       "      <td>174.98</td>\n",
       "      <td>2</td>\n",
       "      <td>2</td>\n",
       "      <td>order</td>\n",
       "      <td>diane</td>\n",
       "    </tr>\n",
       "    <tr>\n",
       "      <th>O9om64IBP2tbyBgXA2Qv</th>\n",
       "      <td>[Men's Clothing, Men's Accessories]</td>\n",
       "      <td>EUR</td>\n",
       "      <td>NaT</td>\n",
       "      <td>Eddie</td>\n",
       "      <td>Eddie Weber</td>\n",
       "      <td>MALE</td>\n",
       "      <td>38</td>\n",
       "      <td>Weber</td>\n",
       "      <td></td>\n",
       "      <td>Monday</td>\n",
       "      <td>...</td>\n",
       "      <td>[59.99, 20.99]</td>\n",
       "      <td>[59.99, 20.99]</td>\n",
       "      <td>[0, 0]</td>\n",
       "      <td>[ZO0542505425, ZO0601306013]</td>\n",
       "      <td>80.98</td>\n",
       "      <td>80.98</td>\n",
       "      <td>2</td>\n",
       "      <td>2</td>\n",
       "      <td>order</td>\n",
       "      <td>eddie</td>\n",
       "    </tr>\n",
       "  </tbody>\n",
       "</table>\n",
       "</div>\n",
       "<p>5 rows × 46 columns</p>"
      ],
      "text/plain": [
       "                                                 category currency  \\\n",
       "N9om64IBP2tbyBgXA2Qu                     [Men's Clothing]      EUR   \n",
       "ONom64IBP2tbyBgXA2Qu                   [Women's Clothing]      EUR   \n",
       "Odom64IBP2tbyBgXA2Qv    [Women's Shoes, Women's Clothing]      EUR   \n",
       "Otom64IBP2tbyBgXA2Qv    [Women's Shoes, Women's Clothing]      EUR   \n",
       "O9om64IBP2tbyBgXA2Qv  [Men's Clothing, Men's Accessories]      EUR   \n",
       "\n",
       "                     customer_birth_date customer_first_name  \\\n",
       "N9om64IBP2tbyBgXA2Qu                 NaT               Eddie   \n",
       "ONom64IBP2tbyBgXA2Qu                 NaT                Mary   \n",
       "Odom64IBP2tbyBgXA2Qv                 NaT                Gwen   \n",
       "Otom64IBP2tbyBgXA2Qv                 NaT               Diane   \n",
       "O9om64IBP2tbyBgXA2Qv                 NaT               Eddie   \n",
       "\n",
       "                     customer_full_name customer_gender  customer_id  \\\n",
       "N9om64IBP2tbyBgXA2Qu    Eddie Underwood            MALE           38   \n",
       "ONom64IBP2tbyBgXA2Qu        Mary Bailey          FEMALE           20   \n",
       "Odom64IBP2tbyBgXA2Qv        Gwen Butler          FEMALE           26   \n",
       "Otom64IBP2tbyBgXA2Qv     Diane Chandler          FEMALE           22   \n",
       "O9om64IBP2tbyBgXA2Qv        Eddie Weber            MALE           38   \n",
       "\n",
       "                     customer_last_name customer_phone day_of_week  ...  \\\n",
       "N9om64IBP2tbyBgXA2Qu          Underwood                     Monday  ...   \n",
       "ONom64IBP2tbyBgXA2Qu             Bailey                     Sunday  ...   \n",
       "Odom64IBP2tbyBgXA2Qv             Butler                     Sunday  ...   \n",
       "Otom64IBP2tbyBgXA2Qv           Chandler                     Sunday  ...   \n",
       "O9om64IBP2tbyBgXA2Qv              Weber                     Monday  ...   \n",
       "\n",
       "                      products.taxful_price products.taxless_price  \\\n",
       "N9om64IBP2tbyBgXA2Qu         [11.99, 24.99]         [11.99, 24.99]   \n",
       "ONom64IBP2tbyBgXA2Qu         [24.99, 28.99]         [24.99, 28.99]   \n",
       "Odom64IBP2tbyBgXA2Qv         [99.99, 99.99]         [99.99, 99.99]   \n",
       "Otom64IBP2tbyBgXA2Qv         [74.99, 99.99]         [74.99, 99.99]   \n",
       "O9om64IBP2tbyBgXA2Qv         [59.99, 20.99]         [59.99, 20.99]   \n",
       "\n",
       "                     products.unit_discount_amount  \\\n",
       "N9om64IBP2tbyBgXA2Qu                        [0, 0]   \n",
       "ONom64IBP2tbyBgXA2Qu                        [0, 0]   \n",
       "Odom64IBP2tbyBgXA2Qv                        [0, 0]   \n",
       "Otom64IBP2tbyBgXA2Qv                        [0, 0]   \n",
       "O9om64IBP2tbyBgXA2Qv                        [0, 0]   \n",
       "\n",
       "                                               sku taxful_total_price  \\\n",
       "N9om64IBP2tbyBgXA2Qu  [ZO0549605496, ZO0299602996]              36.98   \n",
       "ONom64IBP2tbyBgXA2Qu  [ZO0489604896, ZO0185501855]              53.98   \n",
       "Odom64IBP2tbyBgXA2Qv  [ZO0374603746, ZO0272202722]             199.98   \n",
       "Otom64IBP2tbyBgXA2Qv  [ZO0360303603, ZO0272002720]             174.98   \n",
       "O9om64IBP2tbyBgXA2Qv  [ZO0542505425, ZO0601306013]              80.98   \n",
       "\n",
       "                     taxless_total_price total_quantity total_unique_products  \\\n",
       "N9om64IBP2tbyBgXA2Qu               36.98              2                     2   \n",
       "ONom64IBP2tbyBgXA2Qu               53.98              2                     2   \n",
       "Odom64IBP2tbyBgXA2Qv              199.98              2                     2   \n",
       "Otom64IBP2tbyBgXA2Qv              174.98              2                     2   \n",
       "O9om64IBP2tbyBgXA2Qv               80.98              2                     2   \n",
       "\n",
       "                       type   user  \n",
       "N9om64IBP2tbyBgXA2Qu  order  eddie  \n",
       "ONom64IBP2tbyBgXA2Qu  order   mary  \n",
       "Odom64IBP2tbyBgXA2Qv  order   gwen  \n",
       "Otom64IBP2tbyBgXA2Qv  order  diane  \n",
       "O9om64IBP2tbyBgXA2Qv  order  eddie  \n",
       "\n",
       "[5 rows x 46 columns]"
      ]
     },
     "execution_count": 21,
     "metadata": {},
     "output_type": "execute_result"
    }
   ],
   "source": [
    "ecommerce_oml.head()"
   ]
  },
  {
   "cell_type": "markdown",
   "id": "d93654c1",
   "metadata": {},
   "source": [
    "Just like in pandas, the output of a DataFrame method is another DataFrame, allowing for methods to be chained:"
   ]
  },
  {
   "cell_type": "code",
   "execution_count": 22,
   "id": "c5712b4f",
   "metadata": {},
   "outputs": [
    {
     "data": {
      "text/html": [
       "<div>\n",
       "<style scoped>\n",
       "    .dataframe tbody tr th:only-of-type {\n",
       "        vertical-align: middle;\n",
       "    }\n",
       "\n",
       "    .dataframe tbody tr th {\n",
       "        vertical-align: top;\n",
       "    }\n",
       "\n",
       "    .dataframe thead th {\n",
       "        text-align: right;\n",
       "    }\n",
       "</style>\n",
       "<table border=\"1\" class=\"dataframe\">\n",
       "  <thead>\n",
       "    <tr style=\"text-align: right;\">\n",
       "      <th></th>\n",
       "      <th>products.base_price</th>\n",
       "      <th>products.category</th>\n",
       "    </tr>\n",
       "  </thead>\n",
       "  <tbody>\n",
       "    <tr>\n",
       "      <th>N9om64IBP2tbyBgXA2Qu</th>\n",
       "      <td>[11.99, 24.99]</td>\n",
       "      <td>[Men's Clothing, Men's Clothing]</td>\n",
       "    </tr>\n",
       "    <tr>\n",
       "      <th>ONom64IBP2tbyBgXA2Qu</th>\n",
       "      <td>[24.99, 28.99]</td>\n",
       "      <td>[Women's Clothing, Women's Clothing]</td>\n",
       "    </tr>\n",
       "    <tr>\n",
       "      <th>Odom64IBP2tbyBgXA2Qv</th>\n",
       "      <td>[99.99, 99.99]</td>\n",
       "      <td>[Women's Shoes, Women's Clothing]</td>\n",
       "    </tr>\n",
       "    <tr>\n",
       "      <th>Otom64IBP2tbyBgXA2Qv</th>\n",
       "      <td>[74.99, 99.99]</td>\n",
       "      <td>[Women's Shoes, Women's Clothing]</td>\n",
       "    </tr>\n",
       "    <tr>\n",
       "      <th>O9om64IBP2tbyBgXA2Qv</th>\n",
       "      <td>[59.99, 20.99]</td>\n",
       "      <td>[Men's Clothing, Men's Accessories]</td>\n",
       "    </tr>\n",
       "  </tbody>\n",
       "</table>\n",
       "</div>\n",
       "<p>5 rows × 2 columns</p>"
      ],
      "text/plain": [
       "                     products.base_price                     products.category\n",
       "N9om64IBP2tbyBgXA2Qu      [11.99, 24.99]      [Men's Clothing, Men's Clothing]\n",
       "ONom64IBP2tbyBgXA2Qu      [24.99, 28.99]  [Women's Clothing, Women's Clothing]\n",
       "Odom64IBP2tbyBgXA2Qv      [99.99, 99.99]     [Women's Shoes, Women's Clothing]\n",
       "Otom64IBP2tbyBgXA2Qv      [74.99, 99.99]     [Women's Shoes, Women's Clothing]\n",
       "O9om64IBP2tbyBgXA2Qv      [59.99, 20.99]   [Men's Clothing, Men's Accessories]\n",
       "\n",
       "[5 rows x 2 columns]"
      ]
     },
     "execution_count": 22,
     "metadata": {},
     "output_type": "execute_result"
    }
   ],
   "source": [
    "ecommerce_oml.filter(regex='produ.', axis=1)[['products.base_price', 'products.category']].head()"
   ]
  },
  {
   "cell_type": "code",
   "execution_count": 23,
   "id": "47923992",
   "metadata": {},
   "outputs": [
    {
     "data": {
      "text/html": [
       "<div>\n",
       "<style scoped>\n",
       "    .dataframe tbody tr th:only-of-type {\n",
       "        vertical-align: middle;\n",
       "    }\n",
       "\n",
       "    .dataframe tbody tr th {\n",
       "        vertical-align: top;\n",
       "    }\n",
       "\n",
       "    .dataframe thead th {\n",
       "        text-align: right;\n",
       "    }\n",
       "</style>\n",
       "<table border=\"1\" class=\"dataframe\">\n",
       "  <thead>\n",
       "    <tr style=\"text-align: right;\">\n",
       "      <th></th>\n",
       "      <th></th>\n",
       "      <th></th>\n",
       "      <th>products.base_price</th>\n",
       "      <th>products.base_unit_price</th>\n",
       "      <th>products.discount_amount</th>\n",
       "      <th>products.discount_percentage</th>\n",
       "      <th>products.min_price</th>\n",
       "      <th>products.price</th>\n",
       "      <th>products.product_id</th>\n",
       "      <th>products.quantity</th>\n",
       "      <th>products.tax_amount</th>\n",
       "      <th>products.taxful_price</th>\n",
       "      <th>products.taxless_price</th>\n",
       "      <th>products.unit_discount_amount</th>\n",
       "      <th>taxful_total_price</th>\n",
       "      <th>taxless_total_price</th>\n",
       "      <th>total_quantity</th>\n",
       "      <th>total_unique_products</th>\n",
       "    </tr>\n",
       "    <tr>\n",
       "      <th>day_of_week</th>\n",
       "      <th>day_of_week_i</th>\n",
       "      <th>type</th>\n",
       "      <th></th>\n",
       "      <th></th>\n",
       "      <th></th>\n",
       "      <th></th>\n",
       "      <th></th>\n",
       "      <th></th>\n",
       "      <th></th>\n",
       "      <th></th>\n",
       "      <th></th>\n",
       "      <th></th>\n",
       "      <th></th>\n",
       "      <th></th>\n",
       "      <th></th>\n",
       "      <th></th>\n",
       "      <th></th>\n",
       "      <th></th>\n",
       "    </tr>\n",
       "  </thead>\n",
       "  <tbody>\n",
       "    <tr>\n",
       "      <th>Friday</th>\n",
       "      <th>4</th>\n",
       "      <th>order</th>\n",
       "      <td>34.665464</td>\n",
       "      <td>34.665464</td>\n",
       "      <td>0.074866</td>\n",
       "      <td>0.118835</td>\n",
       "      <td>17.296444</td>\n",
       "      <td>34.590598</td>\n",
       "      <td>16526.074272</td>\n",
       "      <td>1.000000</td>\n",
       "      <td>0.0</td>\n",
       "      <td>34.590598</td>\n",
       "      <td>34.590598</td>\n",
       "      <td>0.074866</td>\n",
       "      <td>75.604662</td>\n",
       "      <td>75.604662</td>\n",
       "      <td>2.185714</td>\n",
       "      <td>2.185714</td>\n",
       "    </tr>\n",
       "    <tr>\n",
       "      <th>Monday</th>\n",
       "      <th>0</th>\n",
       "      <th>order</th>\n",
       "      <td>35.963039</td>\n",
       "      <td>35.073007</td>\n",
       "      <td>0.037975</td>\n",
       "      <td>0.063291</td>\n",
       "      <td>17.419775</td>\n",
       "      <td>35.925064</td>\n",
       "      <td>16824.312500</td>\n",
       "      <td>1.003165</td>\n",
       "      <td>0.0</td>\n",
       "      <td>35.925064</td>\n",
       "      <td>35.925064</td>\n",
       "      <td>0.037975</td>\n",
       "      <td>78.428824</td>\n",
       "      <td>78.428824</td>\n",
       "      <td>2.189983</td>\n",
       "      <td>2.183074</td>\n",
       "    </tr>\n",
       "    <tr>\n",
       "      <th>Saturday</th>\n",
       "      <th>5</th>\n",
       "      <th>order</th>\n",
       "      <td>34.357962</td>\n",
       "      <td>34.357962</td>\n",
       "      <td>0.064331</td>\n",
       "      <td>0.101911</td>\n",
       "      <td>17.137746</td>\n",
       "      <td>34.293631</td>\n",
       "      <td>16746.339490</td>\n",
       "      <td>1.000000</td>\n",
       "      <td>0.0</td>\n",
       "      <td>34.293631</td>\n",
       "      <td>34.293631</td>\n",
       "      <td>0.064331</td>\n",
       "      <td>73.153580</td>\n",
       "      <td>73.153580</td>\n",
       "      <td>2.133152</td>\n",
       "      <td>2.133152</td>\n",
       "    </tr>\n",
       "    <tr>\n",
       "      <th>Sunday</th>\n",
       "      <th>6</th>\n",
       "      <th>order</th>\n",
       "      <td>35.278721</td>\n",
       "      <td>35.278721</td>\n",
       "      <td>0.144828</td>\n",
       "      <td>0.229885</td>\n",
       "      <td>17.529815</td>\n",
       "      <td>35.133893</td>\n",
       "      <td>16823.595402</td>\n",
       "      <td>1.000000</td>\n",
       "      <td>0.0</td>\n",
       "      <td>35.133893</td>\n",
       "      <td>35.133893</td>\n",
       "      <td>0.144828</td>\n",
       "      <td>74.674356</td>\n",
       "      <td>74.674356</td>\n",
       "      <td>2.125407</td>\n",
       "      <td>2.125407</td>\n",
       "    </tr>\n",
       "    <tr>\n",
       "      <th>Thursday</th>\n",
       "      <th>3</th>\n",
       "      <th>order</th>\n",
       "      <td>34.680409</td>\n",
       "      <td>34.680409</td>\n",
       "      <td>0.127316</td>\n",
       "      <td>0.203228</td>\n",
       "      <td>17.300117</td>\n",
       "      <td>34.553093</td>\n",
       "      <td>16895.474597</td>\n",
       "      <td>1.000000</td>\n",
       "      <td>0.0</td>\n",
       "      <td>34.553093</td>\n",
       "      <td>34.553093</td>\n",
       "      <td>0.127316</td>\n",
       "      <td>74.590161</td>\n",
       "      <td>74.590161</td>\n",
       "      <td>2.158710</td>\n",
       "      <td>2.158710</td>\n",
       "    </tr>\n",
       "    <tr>\n",
       "      <th>Tuesday</th>\n",
       "      <th>1</th>\n",
       "      <th>order</th>\n",
       "      <td>34.335716</td>\n",
       "      <td>34.335716</td>\n",
       "      <td>0.151492</td>\n",
       "      <td>0.244836</td>\n",
       "      <td>17.174665</td>\n",
       "      <td>34.184224</td>\n",
       "      <td>16484.140015</td>\n",
       "      <td>1.000000</td>\n",
       "      <td>0.0</td>\n",
       "      <td>34.184224</td>\n",
       "      <td>34.184224</td>\n",
       "      <td>0.151492</td>\n",
       "      <td>73.364333</td>\n",
       "      <td>73.364333</td>\n",
       "      <td>2.146141</td>\n",
       "      <td>2.146141</td>\n",
       "    </tr>\n",
       "    <tr>\n",
       "      <th>Wednesday</th>\n",
       "      <th>2</th>\n",
       "      <th>order</th>\n",
       "      <td>35.193203</td>\n",
       "      <td>35.193203</td>\n",
       "      <td>0.111284</td>\n",
       "      <td>0.171206</td>\n",
       "      <td>17.576341</td>\n",
       "      <td>35.081919</td>\n",
       "      <td>16470.031907</td>\n",
       "      <td>1.000000</td>\n",
       "      <td>0.0</td>\n",
       "      <td>35.081919</td>\n",
       "      <td>35.081919</td>\n",
       "      <td>0.111284</td>\n",
       "      <td>76.150179</td>\n",
       "      <td>76.150179</td>\n",
       "      <td>2.170608</td>\n",
       "      <td>2.170608</td>\n",
       "    </tr>\n",
       "  </tbody>\n",
       "</table>\n",
       "</div>"
      ],
      "text/plain": [
       "                                 products.base_price  \\\n",
       "day_of_week day_of_week_i type                         \n",
       "Friday      4             order            34.665464   \n",
       "Monday      0             order            35.963039   \n",
       "Saturday    5             order            34.357962   \n",
       "Sunday      6             order            35.278721   \n",
       "Thursday    3             order            34.680409   \n",
       "Tuesday     1             order            34.335716   \n",
       "Wednesday   2             order            35.193203   \n",
       "\n",
       "                                 products.base_unit_price  \\\n",
       "day_of_week day_of_week_i type                              \n",
       "Friday      4             order                 34.665464   \n",
       "Monday      0             order                 35.073007   \n",
       "Saturday    5             order                 34.357962   \n",
       "Sunday      6             order                 35.278721   \n",
       "Thursday    3             order                 34.680409   \n",
       "Tuesday     1             order                 34.335716   \n",
       "Wednesday   2             order                 35.193203   \n",
       "\n",
       "                                 products.discount_amount  \\\n",
       "day_of_week day_of_week_i type                              \n",
       "Friday      4             order                  0.074866   \n",
       "Monday      0             order                  0.037975   \n",
       "Saturday    5             order                  0.064331   \n",
       "Sunday      6             order                  0.144828   \n",
       "Thursday    3             order                  0.127316   \n",
       "Tuesday     1             order                  0.151492   \n",
       "Wednesday   2             order                  0.111284   \n",
       "\n",
       "                                 products.discount_percentage  \\\n",
       "day_of_week day_of_week_i type                                  \n",
       "Friday      4             order                      0.118835   \n",
       "Monday      0             order                      0.063291   \n",
       "Saturday    5             order                      0.101911   \n",
       "Sunday      6             order                      0.229885   \n",
       "Thursday    3             order                      0.203228   \n",
       "Tuesday     1             order                      0.244836   \n",
       "Wednesday   2             order                      0.171206   \n",
       "\n",
       "                                 products.min_price  products.price  \\\n",
       "day_of_week day_of_week_i type                                        \n",
       "Friday      4             order           17.296444       34.590598   \n",
       "Monday      0             order           17.419775       35.925064   \n",
       "Saturday    5             order           17.137746       34.293631   \n",
       "Sunday      6             order           17.529815       35.133893   \n",
       "Thursday    3             order           17.300117       34.553093   \n",
       "Tuesday     1             order           17.174665       34.184224   \n",
       "Wednesday   2             order           17.576341       35.081919   \n",
       "\n",
       "                                 products.product_id  products.quantity  \\\n",
       "day_of_week day_of_week_i type                                            \n",
       "Friday      4             order         16526.074272           1.000000   \n",
       "Monday      0             order         16824.312500           1.003165   \n",
       "Saturday    5             order         16746.339490           1.000000   \n",
       "Sunday      6             order         16823.595402           1.000000   \n",
       "Thursday    3             order         16895.474597           1.000000   \n",
       "Tuesday     1             order         16484.140015           1.000000   \n",
       "Wednesday   2             order         16470.031907           1.000000   \n",
       "\n",
       "                                 products.tax_amount  products.taxful_price  \\\n",
       "day_of_week day_of_week_i type                                                \n",
       "Friday      4             order                  0.0              34.590598   \n",
       "Monday      0             order                  0.0              35.925064   \n",
       "Saturday    5             order                  0.0              34.293631   \n",
       "Sunday      6             order                  0.0              35.133893   \n",
       "Thursday    3             order                  0.0              34.553093   \n",
       "Tuesday     1             order                  0.0              34.184224   \n",
       "Wednesday   2             order                  0.0              35.081919   \n",
       "\n",
       "                                 products.taxless_price  \\\n",
       "day_of_week day_of_week_i type                            \n",
       "Friday      4             order               34.590598   \n",
       "Monday      0             order               35.925064   \n",
       "Saturday    5             order               34.293631   \n",
       "Sunday      6             order               35.133893   \n",
       "Thursday    3             order               34.553093   \n",
       "Tuesday     1             order               34.184224   \n",
       "Wednesday   2             order               35.081919   \n",
       "\n",
       "                                 products.unit_discount_amount  \\\n",
       "day_of_week day_of_week_i type                                   \n",
       "Friday      4             order                       0.074866   \n",
       "Monday      0             order                       0.037975   \n",
       "Saturday    5             order                       0.064331   \n",
       "Sunday      6             order                       0.144828   \n",
       "Thursday    3             order                       0.127316   \n",
       "Tuesday     1             order                       0.151492   \n",
       "Wednesday   2             order                       0.111284   \n",
       "\n",
       "                                 taxful_total_price  taxless_total_price  \\\n",
       "day_of_week day_of_week_i type                                             \n",
       "Friday      4             order           75.604662            75.604662   \n",
       "Monday      0             order           78.428824            78.428824   \n",
       "Saturday    5             order           73.153580            73.153580   \n",
       "Sunday      6             order           74.674356            74.674356   \n",
       "Thursday    3             order           74.590161            74.590161   \n",
       "Tuesday     1             order           73.364333            73.364333   \n",
       "Wednesday   2             order           76.150179            76.150179   \n",
       "\n",
       "                                 total_quantity  total_unique_products  \n",
       "day_of_week day_of_week_i type                                          \n",
       "Friday      4             order        2.185714               2.185714  \n",
       "Monday      0             order        2.189983               2.183074  \n",
       "Saturday    5             order        2.133152               2.133152  \n",
       "Sunday      6             order        2.125407               2.125407  \n",
       "Thursday    3             order        2.158710               2.158710  \n",
       "Tuesday     1             order        2.146141               2.146141  \n",
       "Wednesday   2             order        2.170608               2.170608  "
      ]
     },
     "execution_count": 23,
     "metadata": {},
     "output_type": "execute_result"
    }
   ],
   "source": [
    "ecommerce_oml.groupby(['day_of_week', 'day_of_week_i', 'type']).mean()"
   ]
  },
  {
   "cell_type": "markdown",
   "id": "a0adbe71",
   "metadata": {},
   "source": [
    "unlike pandas DataFrames, opensearch-py-ml does not allow for assignment in DataFrames (since the data itself is being pulled from OpenSearch)."
   ]
  },
  {
   "cell_type": "code",
   "execution_count": 24,
   "id": "dd70e252",
   "metadata": {},
   "outputs": [
    {
     "ename": "TypeError",
     "evalue": "'DataFrame' object does not support item assignment",
     "output_type": "error",
     "traceback": [
      "\u001B[0;31m---------------------------------------------------------------------------\u001B[0m",
      "\u001B[0;31mTypeError\u001B[0m                                 Traceback (most recent call last)",
      "Input \u001B[0;32mIn [24]\u001B[0m, in \u001B[0;36m<cell line: 1>\u001B[0;34m()\u001B[0m\n\u001B[0;32m----> 1\u001B[0m ecommerce_oml[\u001B[38;5;124m'\u001B[39m\u001B[38;5;124mtaxless_total_price\u001B[39m\u001B[38;5;124m'\u001B[39m] \u001B[38;5;241m=\u001B[39m ecommerce_oml[\u001B[38;5;124m'\u001B[39m\u001B[38;5;124mtaxless_total_price\u001B[39m\u001B[38;5;124m'\u001B[39m] \u001B[38;5;241m*\u001B[39m \u001B[38;5;241m1.15\u001B[39m\n",
      "\u001B[0;31mTypeError\u001B[0m: 'DataFrame' object does not support item assignment"
     ]
    }
   ],
   "source": [
    "ecommerce_oml['taxless_total_price'] = ecommerce_oml['taxless_total_price'] * 1.15"
   ]
  },
  {
   "cell_type": "code",
   "execution_count": 25,
   "id": "c62e8b2c",
   "metadata": {},
   "outputs": [],
   "source": [
    "ecommerce_pd = ecommerce_oml.head().to_pandas()"
   ]
  },
  {
   "cell_type": "code",
   "execution_count": 26,
   "id": "0a38c48a",
   "metadata": {},
   "outputs": [],
   "source": [
    "ecommerce_pd['taxless_total_price'] = ecommerce_pd['taxless_total_price'] * 1.15"
   ]
  },
  {
   "cell_type": "code",
   "execution_count": 27,
   "id": "446af176",
   "metadata": {},
   "outputs": [
    {
     "data": {
      "text/plain": [
       "N9om64IBP2tbyBgXA2Qu     42.527\n",
       "ONom64IBP2tbyBgXA2Qu     62.077\n",
       "Odom64IBP2tbyBgXA2Qv    229.977\n",
       "Otom64IBP2tbyBgXA2Qv    201.227\n",
       "O9om64IBP2tbyBgXA2Qv     93.127\n",
       "Name: taxless_total_price, dtype: float64"
      ]
     },
     "execution_count": 27,
     "metadata": {},
     "output_type": "execute_result"
    }
   ],
   "source": [
    "ecommerce_pd['taxless_total_price']"
   ]
  },
  {
   "cell_type": "markdown",
   "id": "a999036a",
   "metadata": {},
   "source": [
    "# Step 3: Showcase SageMaker Support"
   ]
  },
  {
   "cell_type": "markdown",
   "id": "a6952ea2",
   "metadata": {},
   "source": [
    "We'll showcase SageMaker integration by uploading an `opensearch-py-ml` DataFrame to a deployed SageMaker endpoint. The particular problem we'll try to solve is the classic MNIST digit classification problem, where a 28x28 grayscale image is sent to our ML algorithm, and the algorithm spits out a 10-long vector representing the probability the image represents a certain digit (0-9)."
   ]
  },
  {
   "cell_type": "markdown",
   "id": "490ea9dd",
   "metadata": {},
   "source": [
    "![title](mnist-3.0.1.png)"
   ]
  },
  {
   "cell_type": "markdown",
   "id": "451c575a",
   "metadata": {},
   "source": [
    "The model we've deployed is a LightGBM model for digit classification: https://lightgbm.readthedocs.io/en/v3.3.2/"
   ]
  },
  {
   "cell_type": "code",
   "execution_count": null,
   "id": "5b12a50f",
   "metadata": {},
   "outputs": [],
   "source": [
    "# step 1: preprocess the data we'd like to send to endpoint in pandas\n",
    "newline, bold, unbold = '\\n', '\\033[1m', '\\033[0m'\n",
    "\n",
    "# read the data\n",
    "test_data = pd.read_csv('truncated_data.csv', index_col='Unnamed: 0')\n",
    "test_data.columns = ['Target'] + [f\"Feature_{i}\" for i in range(1, test_data.shape[1])]\n",
    "\n",
    "num_examples, num_columns = test_data.shape\n",
    "print(f\"{bold}The test dataset contains {num_examples} examples and {num_columns} columns.{unbold}\\n\")\n",
    "\n",
    "# prepare the ground truth target and predicting features to send into the endpoint.\n",
    "ground_truth_label, features = test_data.iloc[:, :1], test_data.iloc[:, 1:]\n",
    "\n",
    "print(f\"{bold}The first 5 observations of the data: {unbold} \\n\")\n",
    "test_data.head(5)"
   ]
  },
  {
   "cell_type": "markdown",
   "id": "c261680b",
   "metadata": {},
   "source": [
    "uploading pandas DataFrames as OpenSearch indices are as simple as a one-line call:"
   ]
  },
  {
   "cell_type": "code",
   "execution_count": null,
   "id": "30b8e42c",
   "metadata": {},
   "outputs": [],
   "source": [
    "oml.pandas_to_opensearch(test_data, client, 'sagemaker_demo_data')"
   ]
  },
  {
   "cell_type": "code",
   "execution_count": null,
   "id": "f27f36ca",
   "metadata": {},
   "outputs": [],
   "source": [
    "oml_data = oml.DataFrame(client, 'sagemaker_demo_data')"
   ]
  },
  {
   "cell_type": "code",
   "execution_count": null,
   "id": "bb097906",
   "metadata": {},
   "outputs": [],
   "source": [
    "oml_data.head()"
   ]
  },
  {
   "cell_type": "code",
   "execution_count": null,
   "id": "b7a653a7",
   "metadata": {},
   "outputs": [],
   "source": [
    "oml_data.columns"
   ]
  },
  {
   "cell_type": "markdown",
   "id": "e6432ab0",
   "metadata": {},
   "source": [
    "note that because individual fields in OpenSearch are saved as mappings, which have no explicit order, we need to specify a column order when uploading data to our SageMaker endpoint."
   ]
  },
  {
   "cell_type": "code",
   "execution_count": null,
   "id": "68c4c8ee",
   "metadata": {},
   "outputs": [],
   "source": [
    "indices, preds = oml.make_sagemaker_prediction('jumpstart-dft-lgb-classification-model', \n",
    "                                     oml_data,\n",
    "                                     'Target',\n",
    "                                     column_order = list(test_data.drop(columns='Target').columns),\n",
    "                                     chunksize=1000)"
   ]
  },
  {
   "cell_type": "code",
   "execution_count": null,
   "id": "66113963",
   "metadata": {},
   "outputs": [],
   "source": [
    "preds = [json.loads(item)['probabilities'] for item in preds]\n",
    "preds = np.concatenate([np.array(item) for item in preds])"
   ]
  },
  {
   "cell_type": "code",
   "execution_count": null,
   "id": "21563a16",
   "metadata": {},
   "outputs": [],
   "source": [
    "preds"
   ]
  },
  {
   "cell_type": "code",
   "execution_count": null,
   "id": "2a9de6bf",
   "metadata": {
    "scrolled": true
   },
   "outputs": [],
   "source": [
    "# take most likely digit for each test input\n",
    "preds = np.argmax(preds, axis=1)\n",
    "\n",
    "# return in order of the indices\n",
    "s = pd.Series(preds, indices)\n",
    "s.index = [int(item) for item in s.index]\n",
    "np.array(s.sort_index()[:100].values)"
   ]
  },
  {
   "cell_type": "markdown",
   "id": "00b15448",
   "metadata": {},
   "source": [
    "# Step 4: Showcase ml-commons Support"
   ]
  },
  {
   "cell_type": "markdown",
   "id": "2dbca1a6",
   "metadata": {},
   "source": [
    "all ML-related functionality in `opensearch-py-ml` is stored in a separate client:"
   ]
  },
  {
   "cell_type": "code",
   "execution_count": null,
   "id": "af761ae4",
   "metadata": {},
   "outputs": [],
   "source": [
    "ml_client = MLCommonClient(client)"
   ]
  },
  {
   "cell_type": "code",
   "execution_count": null,
   "id": "6d3fe24e",
   "metadata": {},
   "outputs": [],
   "source": [
    "ml_client.put_model(\"sentence_transformer3.zip\", \"sentence_transformer\", 1, verbose=True)"
   ]
  },
  {
   "cell_type": "code",
   "execution_count": null,
   "id": "501941c4",
   "metadata": {},
   "outputs": [],
   "source": []
  }
 ],
 "metadata": {
  "kernelspec": {
   "display_name": "Python 3 (ipykernel)",
   "language": "python",
   "name": "python3"
  },
  "language_info": {
   "codemirror_mode": {
    "name": "ipython",
    "version": 3
   },
   "file_extension": ".py",
   "mimetype": "text/x-python",
   "name": "python",
   "nbconvert_exporter": "python",
   "pygments_lexer": "ipython3",
   "version": "3.9.13"
  }
 },
 "nbformat": 4,
 "nbformat_minor": 5
}